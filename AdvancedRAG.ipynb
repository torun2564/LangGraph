{
 "cells": [
  {
   "cell_type": "markdown",
   "id": "eaf7521f-709d-49dd-853f-e3593d54003e",
   "metadata": {},
   "source": [
    "# 準備"
   ]
  },
  {
   "cell_type": "markdown",
   "id": "15ac0e84-8411-4800-8a2b-1af9a3af706e",
   "metadata": {},
   "source": [
    "## DB作成\n",
    "### LangChainのGit公式ドキュメントをDBとする"
   ]
  },
  {
   "cell_type": "code",
   "execution_count": 1,
   "id": "15d38cd7-6d5a-4a5f-8964-73201ad8b986",
   "metadata": {},
   "outputs": [
    {
     "name": "stdout",
     "output_type": "stream",
     "text": [
      "384\n"
     ]
    }
   ],
   "source": [
    "from langchain_community.document_loaders import GitLoader\n",
    "import os\n",
    "\n",
    "os.environ[\"GIT_PYTHON_REFRESH\"] = \"quiet\"\n",
    "\n",
    "def file_filter(file_path: str) -> bool:\n",
    "    return file_path.endswith(\".mdx\")\n",
    "\n",
    "loader = GitLoader(\n",
    "    clone_url=\"https://github.com/langchain-ai/langchain\",\n",
    "    repo_path=\"./langchain\",\n",
    "    branch=\"master\",\n",
    "    file_filter=file_filter,\n",
    ")\n",
    "\n",
    "documents = loader.load()\n",
    "print(len(documents))"
   ]
  },
  {
   "cell_type": "code",
   "execution_count": 2,
   "id": "6daadcbc-e997-4b4b-8a50-dfa0eecb4615",
   "metadata": {},
   "outputs": [],
   "source": [
    "from langchain_chroma import Chroma\n",
    "from langchain_openai import OpenAIEmbeddings\n",
    "\n",
    "embeddings = OpenAIEmbeddings(model=\"text-embedding-3-small\")\n",
    "db = Chroma.from_documents(documents, embeddings)"
   ]
  },
  {
   "cell_type": "markdown",
   "id": "9cf05917-6787-419d-99fb-01a7d3418388",
   "metadata": {},
   "source": [
    "## LangSmithとの連携"
   ]
  },
  {
   "cell_type": "code",
   "execution_count": 3,
   "id": "0ff28164-ba34-4712-82a6-2b8ab174b4e8",
   "metadata": {},
   "outputs": [],
   "source": [
    "os.environ[\"LANGCHAIN_TRACING_V2\"]=\"true\"\n",
    "os.environ[\"LANGCHAIN_ENDPOINT\"]=\"https://api.smith.langchain.com\"\n",
    "os.environ[\"LANGCHAIN_API_KEY\"]=\"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\"\n",
    "os.environ[\"LANGCHAIN_PROJECT\"]=\"AI-Agent\""
   ]
  },
  {
   "cell_type": "markdown",
   "id": "47b32faf-a656-451b-b469-b295e07fc948",
   "metadata": {},
   "source": [
    "# Basic RAG"
   ]
  },
  {
   "cell_type": "code",
   "execution_count": 4,
   "id": "9022afef-0d75-4717-953b-4fc1cd00cc1a",
   "metadata": {},
   "outputs": [
    {
     "data": {
      "text/plain": [
       "'LangChainは、大規模言語モデル（LLM）を活用したアプリケーションを開発するためのフレームワークです。このフレームワークは、LLMアプリケーションのライフサイクルの各段階を簡素化します。具体的には、以下のような機能があります：\\n\\n1. **開発**: LangChainのオープンソースコンポーネントやサードパーティの統合を使用してアプリケーションを構築できます。LangGraphを利用することで、状態を持つエージェントを構築し、ストリーミングや人間の介入をサポートします。\\n\\n2. **生産化**: LangSmithを使用してアプリケーションを検査、監視、評価し、継続的に最適化して自信を持ってデプロイできます。\\n\\n3. **デプロイ**: LangGraphアプリケーションを生産準備が整ったAPIやアシスタントに変換できます。\\n\\nLangChainは、LLMや関連技術（埋め込みモデルやベクターストアなど）に対する標準インターフェースを実装しており、数百のプロバイダーと統合されています。また、複数のオープンソースライブラリで構成されており、特に`langchain-core`、統合パッケージ、`langchain`、`langchain-community`、`langgraph`などが含まれています。\\n\\nこのフレームワークは、開発者がアプリケーションを簡単に構築できるように設計されており、さまざまなコンポーネントを組み合わせて使用することができます。'"
      ]
     },
     "execution_count": 4,
     "metadata": {},
     "output_type": "execute_result"
    }
   ],
   "source": [
    "from langchain_core.output_parsers import StrOutputParser\n",
    "from langchain_core.prompts import ChatPromptTemplate\n",
    "from langchain_core.runnables import RunnablePassthrough\n",
    "from langchain_openai import ChatOpenAI\n",
    "\n",
    "prompt = ChatPromptTemplate.from_template(\n",
    "    '''\\\n",
    "    以下の文脈だけを踏まえて質問に回答してください。\n",
    "\n",
    "    文脈： \"\"\"\n",
    "    {context}\n",
    "    \"\"\"\n",
    "\n",
    "    質問： \"\"\"\n",
    "    {question}\n",
    "    \"\"\"\n",
    "    '''\n",
    ")\n",
    "\n",
    "model = ChatOpenAI(model=\"gpt-4o-mini\", temperature=0)\n",
    "retriever = db.as_retriever()\n",
    "\n",
    "chain = {\n",
    "    \"question\": RunnablePassthrough(),\n",
    "    \"context\": retriever,\n",
    "} | prompt | model | StrOutputParser()\n",
    "\n",
    "chain.invoke(\"LangChainの概要を教えて\")"
   ]
  },
  {
   "cell_type": "markdown",
   "id": "c858f477-7b23-4122-813f-7bf3a2ea8740",
   "metadata": {},
   "source": [
    "# 検索クエリの工夫"
   ]
  },
  {
   "cell_type": "markdown",
   "id": "58304977-3c92-4ce5-b2d5-475bb15ef4bb",
   "metadata": {},
   "source": [
    "## HyDE (Hypothetical Document Embeddings)\n",
    "- ユーザーの質問に対して、LLMに仮説的な回答を推論させ、その出力を類似度検索に用いる"
   ]
  },
  {
   "cell_type": "code",
   "execution_count": 5,
   "id": "16ad9adf-890b-44a5-8ded-06227d5f0991",
   "metadata": {},
   "outputs": [],
   "source": [
    "hypo_prompt = ChatPromptTemplate.from_template(\n",
    "    \"\"\"\\\n",
    "    次の質問に回答する一文を書いてください。\n",
    "\n",
    "    質問： {question}\n",
    "    \"\"\"\n",
    ")\n",
    "\n",
    "hypo_chain = hypo_prompt | model | StrOutputParser()\n",
    "\n",
    "hyde_rag_chain = {\n",
    "    \"question\": RunnablePassthrough(),\n",
    "    \"context\": hypo_chain | retriever,\n",
    "} | RunnablePassthrough.assign(answer=prompt | model | StrOutputParser())\n",
    "\n",
    "output = hyde_rag_chain.invoke(\"LangChainの概要を教えて\")"
   ]
  },
  {
   "cell_type": "code",
   "execution_count": 6,
   "id": "39595a86-ed36-49fb-83b7-9c80465c7f0e",
   "metadata": {},
   "outputs": [
    {
     "name": "stdout",
     "output_type": "stream",
     "text": [
      "('LangChainは、大規模言語モデル（LLM）を活用したアプリケーションを開発するためのフレームワークです。LangChainは、アプリケーションのライフサイクルの各段階を簡素化します。具体的には、以下のような機能を提供しています：\\n'\n",
      " '\\n'\n",
      " '1. **開発**: '\n",
      " 'LangChainのオープンソースコンポーネントやサードパーティの統合を使用してアプリケーションを構築できます。また、LangGraphを利用して、状態を持つエージェントを構築することができます。\\n'\n",
      " '\\n'\n",
      " '2. **生産化**: LangSmithを使用してアプリケーションを検査、監視、評価し、継続的に最適化して自信を持ってデプロイできます。\\n'\n",
      " '\\n'\n",
      " '3. **デプロイ**: LangGraphアプリケーションを本番環境向けのAPIやアシスタントに変換できます。\\n'\n",
      " '\\n'\n",
      " 'LangChainは、さまざまなプロバイダーと統合し、標準インターフェースを実装しているため、異なるコンポーネントを簡単に切り替えたり、組み合わせたりすることが可能です。また、LangGraphを使用することで、複雑なアプリケーションのオーケストレーションが可能になり、持続性やストリーミング、ヒューマンインザループなどの機能をサポートします。LangSmithは、アプリケーションのトレースや評価を行うためのプラットフォームです。\\n'\n",
      " '\\n'\n",
      " '全体として、LangChainは開発者がLLMアプリケーションを効率的に構築、評価、デプロイできるように設計されています。')\n"
     ]
    }
   ],
   "source": [
    "import pprint\n",
    "pprint.pprint(output[\"answer\"])"
   ]
  },
  {
   "cell_type": "markdown",
   "id": "48e7e5f3-49a2-42db-912d-16887582b253",
   "metadata": {},
   "source": [
    "## 複数の検索クエリの生成\n",
    "- LLMに複数の検索クエリを生成させ類似検索に用いることで、適切なドキュメントが検索結果に含まれやすくする"
   ]
  },
  {
   "cell_type": "code",
   "execution_count": 7,
   "id": "204459fe-1b35-454b-b0d2-f62101d2a8de",
   "metadata": {},
   "outputs": [],
   "source": [
    "from pydantic import BaseModel, Field\n",
    "\n",
    "class QueryGenerationOutput(BaseModel):\n",
    "    queries: list[str] = Field(..., description=\"検索クエリのリスト\")\n",
    "\n",
    "query_generation_prompt = ChatPromptTemplate.from_template(\n",
    "    \"\"\"\\\n",
    "    質問に対してベクターデータベースから関連文書を検索するために、3つの異なる検索クエリを生成してください。\n",
    "    距離ベースの類似性検索の限界を克服するために、ユーザーの質問に対して複数の視点を提供することが目標です。\n",
    "\n",
    "    質問： {question}\n",
    "    \"\"\"\n",
    ")\n",
    "\n",
    "query_generation_chain = (\n",
    "    query_generation_prompt\n",
    "    | model.with_structured_output(QueryGenerationOutput)\n",
    "    | (lambda x: x.queries)\n",
    ")"
   ]
  },
  {
   "attachments": {
    "61e356d1-beac-4adc-a91c-81f79f4de98c.png": {
     "image/png": "[encoded data removed]"
    }
   },
   "cell_type": "markdown",
   "id": "7c15ec3b-234e-437c-bf63-2351b192ec74",
   "metadata": {},
   "source": [
    "- マルチクエリの例   \n",
    "![image.png](attachment:61e356d1-beac-4adc-a91c-81f79f4de98c.png)"
   ]
  },
  {
   "cell_type": "code",
   "execution_count": 8,
   "id": "087a2d4a-c428-4ff3-b3d1-2c33b7348c8d",
   "metadata": {},
   "outputs": [],
   "source": [
    "\"\"\"\n",
    "retriever.map() : list[str]を受け取って、list[list[Document]]を返すように変換。\n",
    "                  元のRunnableに対して引数と戻り値をlist化するメソッド。\n",
    "\"\"\"\n",
    "\n",
    "multi_query_rag_chain = {\n",
    "    \"question\": RunnablePassthrough(),\n",
    "    \"context\": query_generation_chain | retriever.map(), \n",
    "} | prompt | model | StrOutputParser()\n",
    "\n",
    "output = multi_query_rag_chain.invoke(\"Langchainの概要を教えて\")"
   ]
  },
  {
   "cell_type": "code",
   "execution_count": 10,
   "id": "a16849cf-31d4-4df3-b09f-7998bec9fc61",
   "metadata": {},
   "outputs": [
    {
     "name": "stdout",
     "output_type": "stream",
     "text": [
      "LangChainは、大規模言語モデル（LLM）を活用したアプリケーションを開発するためのフレームワークです。LangChainは、開発、運用、デプロイの各段階を簡素化し、開発者がアプリケーションを構築しやすくすることを目指しています。\n",
      "\n",
      "### 主な特徴\n",
      "1. **標準化されたコンポーネントインターフェース**: LangChainは、さまざまなAIアプリケーションにおいて中心的な役割を果たすコンポーネントのための共通インターフェースを提供します。これにより、異なるプロバイダー間での切り替えが容易になります。\n",
      "\n",
      "2. **オーケストレーション**: 複数のコンポーネントやモデルを組み合わせて複雑なアプリケーションを構築するための効率的な接続が求められています。LangChainは、これを実現するためのオーケストレーション機能を提供します。\n",
      "\n",
      "3. **可観測性と評価**: アプリケーションが複雑になるにつれて、内部で何が起こっているのかを理解することが難しくなります。LangChainは、アプリケーションの監視や評価を支援するツールを提供し、開発者が自信を持って迅速に質問に答えられるようにします。\n",
      "\n",
      "### エコシステム\n",
      "LangChainは、オープンソースのコンポーネントやサードパーティの統合を利用してアプリケーションを構築するためのフレームワークであり、LangGraphやLangSmithといった関連ツールも含まれています。LangGraphは、LangChainコンポーネントを組み合わせて状態を持つアプリケーションを構築するためのオーケストレーションフレームワークであり、LangSmithはアプリケーションのトレース、モニタリング、評価を行うためのプラットフォームです。\n",
      "\n",
      "このように、LangChainは開発者がAIアプリケーションを効率的に構築、運用、デプロイできるように設計されています。\n"
     ]
    }
   ],
   "source": [
    "print(output)"
   ]
  },
  {
   "cell_type": "markdown",
   "id": "bfc41604-3710-4159-9b82-ad10bb3eba76",
   "metadata": {},
   "source": [
    "## Step-Back Prompting\n",
    "- 元の質問を抽象度の高い質問に言い換える"
   ]
  },
  {
   "cell_type": "code",
   "execution_count": 11,
   "id": "b7d9f090-2b41-45fe-bb6c-3aea0857b1bb",
   "metadata": {},
   "outputs": [],
   "source": [
    "step_back_prompt = ChatPromptTemplate.from_template(\n",
    "    \"\"\"\\\n",
    "    次の質問を抽象度の高い質問に言い換えてください。\n",
    "\n",
    "    質問： {question}\n",
    "    \"\"\"\n",
    ")\n",
    "\n",
    "step_back_chain = step_back_prompt | model | StrOutputParser()\n",
    "\n",
    "step_back_rag_chain = {\n",
    "    \"question\": RunnablePassthrough(),\n",
    "    \"context\": step_back_chain | retriever,\n",
    "} | RunnablePassthrough.assign(answer=prompt | model | StrOutputParser())\n",
    "\n",
    "output = step_back_rag_chain.invoke(\"LangChainの概要を教えて\")"
   ]
  },
  {
   "attachments": {
    "4cc8b00e-b10b-4220-bf21-571e268e1444.png": {
     "image/png": "[encoded data removed]"
    }
   },
   "cell_type": "markdown",
   "id": "692df45a-7767-4857-b1b2-ce6edafb71de",
   "metadata": {},
   "source": [
    "- 変換の結果\n",
    "\n",
    "![image.png](attachment:4cc8b00e-b10b-4220-bf21-571e268e1444.png)"
   ]
  },
  {
   "cell_type": "code",
   "execution_count": 13,
   "id": "bd6b192c-235f-4860-bd5e-5ecf35728c1c",
   "metadata": {},
   "outputs": [
    {
     "name": "stdout",
     "output_type": "stream",
     "text": [
      "LangChainは、大規模言語モデル（LLM）を活用したアプリケーションを開発するためのフレームワークです。LangChainは、アプリケーションのライフサイクルの各段階を簡素化します。具体的には、以下のような機能を提供しています：\n",
      "\n",
      "- **開発**: LangChainのオープンソースコンポーネントやサードパーティの統合を使用してアプリケーションを構築できます。また、LangGraphを利用して、状態を持つエージェントを構築することができます。\n",
      "- **生産化**: LangSmithを使用してアプリケーションを検査、監視、評価し、継続的に最適化して自信を持ってデプロイできます。\n",
      "- **デプロイ**: LangGraphアプリケーションを本番環境向けのAPIやアシスタントに変換できます。\n",
      "\n",
      "LangChainは、さまざまなプロバイダーと統合し、標準インターフェースを実装しているため、開発者は異なるコンポーネントを簡単に切り替えたり、組み合わせたりすることができます。また、LangGraphを使用することで、複雑なアプリケーションのオーケストレーションが可能になります。さらに、LangSmithを利用することで、アプリケーションの可視化や評価を行い、信頼性の高いアプリケーションを構築することができます。\n"
     ]
    }
   ],
   "source": [
    "print(output[\"answer\"])"
   ]
  },
  {
   "cell_type": "markdown",
   "id": "30cf3918-c860-469d-86c1-a6402d865cde",
   "metadata": {},
   "source": [
    "# 検索後の工夫"
   ]
  },
  {
   "cell_type": "markdown",
   "id": "b8e05eb2-5c72-4b9c-af98-b3fdffb2655d",
   "metadata": {},
   "source": [
    "## RAG-Fusion\n",
    "- 複数のクエリの検索結果を何らかの順番で並べ、その結果から最終的な回答をLLMが作成\n",
    "- 検索結果の順位を融合して並べるアルゴリズムとして、RRF(Recirocal Rank Fusion)がある。\n",
    "  - RRFは各検索クエリの「1 / (順位+k」(kはパラメータで一般的に60)の合計スコアで検索結果のドキュメントを並び替える\n",
    "  - 各検索クエリで全て1位に含まれたドキュメントが最も重要と判断され、出力優先度が高くなる"
   ]
  },
  {
   "cell_type": "code",
   "execution_count": 15,
   "id": "56b0d7fb-a7f7-4364-9ee3-2c67658f4aed",
   "metadata": {},
   "outputs": [],
   "source": [
    "from langchain_core.documents import Document\n",
    "\n",
    "def reciprocal_rank_fusion(\n",
    "    retriever_outputs: list[list[Document]],\n",
    "    k: int = 60,\n",
    ") -> list[str]:\n",
    "    # 各ドキュメントのコンテンツ（文字列）とそのスコアの対応を保持する辞書を準備\n",
    "    content_score_mapping = {}\n",
    "\n",
    "    # 検索クエリごとにループ\n",
    "    for docs in retriever_outputs:\n",
    "        # 検索結果のドキュメントごとにループ\n",
    "        for rank, doc in enumerate(docs):\n",
    "            content = doc.page_content\n",
    "\n",
    "            # 初めて登場したコンテンツの場合はスコアを0で初期化\n",
    "            if content not in content_score_mapping:\n",
    "                content_score_mapping[content] = 0\n",
    "\n",
    "            # (1 / (順位 + k))のスコアを加算\n",
    "            content_score_mapping[content] += 1 / (rank + k)\n",
    "\n",
    "    # スコアの大きい順にソート\n",
    "    ranked = sorted(content_score_mapping.items(), key=lambda x: x[1], reverse=True)\n",
    "    return [content for content, _ in ranked]"
   ]
  },
  {
   "cell_type": "code",
   "execution_count": 16,
   "id": "c25fdecd-8fbe-4132-b65d-10412b9d90e0",
   "metadata": {},
   "outputs": [],
   "source": [
    "rag_fusion_chain = {\n",
    "    \"question\": RunnablePassthrough(),\n",
    "    \"context\": query_generation_chain | retriever.map() | reciprocal_rank_fusion,\n",
    "} | prompt | model | StrOutputParser()\n",
    "\n",
    "outout = rag_fusion_chain.invoke(\"LangChainの概要を教えて\")"
   ]
  },
  {
   "cell_type": "code",
   "execution_count": 17,
   "id": "c93445b5-ae43-4602-a2ca-eb7509c2b5f0",
   "metadata": {},
   "outputs": [
    {
     "name": "stdout",
     "output_type": "stream",
     "text": [
      "LangChainは、大規模言語モデル（LLM）を活用したアプリケーションを開発するためのフレームワークです。このフレームワークは、LLMアプリケーションのライフサイクルの各段階を簡素化します。具体的には、以下のような機能を提供しています。\n",
      "\n",
      "1. **開発**: LangChainのオープンソースコンポーネントやサードパーティの統合を使用してアプリケーションを構築できます。また、LangGraphを利用して、状態を持つエージェントを構築し、ストリーミングや人間の介入をサポートします。\n",
      "\n",
      "2. **生産化**: LangSmithを使用してアプリケーションを検査、監視、評価し、継続的に最適化して自信を持ってデプロイできます。\n",
      "\n",
      "3. **デプロイ**: LangGraphアプリケーションを生産準備が整ったAPIやアシスタントに変換できます。\n",
      "\n",
      "LangChainは、チャットモデルや埋め込みモデル、ベクトルストアなど、さまざまなAI関連技術の標準インターフェースを実装しており、数百のプロバイダーと統合されています。これにより、開発者は異なるプロバイダー間で簡単に切り替えたり、コンポーネントを組み合わせたりすることができます。\n",
      "\n",
      "また、LangChainは、アプリケーションの複雑さが増す中で、複数のコンポーネントやモデルを効率的に接続するためのオーケストレーション機能も提供しています。これにより、複雑な制御フローや人間の介入を必要とするアプリケーションの構築が可能になります。\n",
      "\n",
      "全体として、LangChainは、AIアプリケーションの開発を容易にし、開発者が迅速にプロトタイプを作成し、信頼性の高いアプリケーションを構築できるようにすることを目指しています。\n"
     ]
    }
   ],
   "source": [
    "print(outout)"
   ]
  },
  {
   "cell_type": "markdown",
   "id": "e2dd2ef0-a188-4128-b12d-e84843eab391",
   "metadata": {},
   "source": [
    "# 複数のRetrieverを使う工夫"
   ]
  },
  {
   "cell_type": "markdown",
   "id": "7ec576d7-e64a-4c30-b6c1-485ea01fab89",
   "metadata": {},
   "source": [
    "## LLMによるルーティング\n",
    "- ユーザーの質問に応じて検索対象のRetrieverをLLMが使い分ける"
   ]
  },
  {
   "cell_type": "code",
   "execution_count": 19,
   "id": "c10b8114-c823-40eb-a01c-d06cc1d13e5b",
   "metadata": {},
   "outputs": [],
   "source": [
    "from langchain_community.retrievers import TavilySearchAPIRetriever\n",
    "os.environ[\"TAVILY_API_KEY\"] = \"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\"\n",
    "\n",
    "# Retriever1 : LangChainの公式ドキュメント\n",
    "langchain_document_retriever = retriever.with_config(\n",
    "    {\"run_name\": \"langchain_document_retriever\"}\n",
    ")\n",
    "\n",
    "# Retriever2 : Web検索\n",
    "web_retriever = TavilySearchAPIRetriever(k=3).with_config(\n",
    "    {\"run_name\": \"web_retriever\"}\n",
    ")"
   ]
  },
  {
   "cell_type": "code",
   "execution_count": 24,
   "id": "6a191f32-fc58-4bdb-b868-5f9557d4defc",
   "metadata": {},
   "outputs": [],
   "source": [
    "### ユーザー入力を元にLLMがRetrieverを選択するChain\n",
    "from enum import Enum\n",
    "\n",
    "class Route(str, Enum):\n",
    "    langchain_document = \"langchain_document\"\n",
    "    web = \"web\"\n",
    "\n",
    "class RouteOutput(BaseModel):\n",
    "    route: Route\n",
    "\n",
    "route_prompt = ChatPromptTemplate.from_template(\n",
    "    \"\"\"\\\n",
    "    質問に回答するために適切なRetrieverを選択してください。\n",
    "\n",
    "    質問： {question}\n",
    "    \"\"\"\n",
    ")\n",
    "\n",
    "route_chain = (\n",
    "    route_prompt\n",
    "    | model.with_structured_output(RouteOutput)\n",
    "    | (lambda x: x.route)\n",
    ")"
   ]
  },
  {
   "cell_type": "code",
   "execution_count": 27,
   "id": "0b3fa563-c6c8-4b9f-a09d-7675e90e4b52",
   "metadata": {},
   "outputs": [],
   "source": [
    "### ルーティングの結果を踏まえて検索するrouted_retriever関数とChainを実装\n",
    "from typing import Any\n",
    "\n",
    "def routed_retriever(inp: dict[str, Any]) -> list[Document]:\n",
    "    question = inp[\"question\"]\n",
    "    route = inp[\"route\"]\n",
    "\n",
    "    if route == Route.langchain_document:\n",
    "        return langchain_document_retriever.invoke(question)\n",
    "    elif route == Route.web:\n",
    "        return web_retriever.invoke(question)\n",
    "\n",
    "    raise ValueError(f\"Unknown retriever: {retriever}\")\n",
    "\n",
    "route_rag_chain = (\n",
    "    {\n",
    "        \"question\": RunnablePassthrough(),\n",
    "        \"route\": route_chain,\n",
    "    }\n",
    "    | RunnablePassthrough.assign(context=routed_retriever)\n",
    "    | prompt | model | StrOutputParser()\n",
    ")\n",
    "\n",
    "output = route_rag_chain.invoke(\"LangChainの概要を教えて\")"
   ]
  },
  {
   "cell_type": "code",
   "execution_count": 28,
   "id": "5e964c6d-f3b7-47c6-91a7-bb5a7b53f049",
   "metadata": {},
   "outputs": [
    {
     "name": "stdout",
     "output_type": "stream",
     "text": [
      "LangChainは、大規模言語モデル（LLMs）を活用したアプリケーションを開発するためのフレームワークです。このフレームワークは、LLMアプリケーションのライフサイクルの各段階を簡素化します。具体的には、以下のような機能があります：\n",
      "\n",
      "1. **開発**: LangChainのオープンソースコンポーネントやサードパーティの統合を使用してアプリケーションを構築できます。また、LangGraphを利用して、状態を持つエージェントを構築し、ストリーミングや人間の介入をサポートします。\n",
      "\n",
      "2. **生産化**: LangSmithを使用してアプリケーションを検査、監視、評価し、継続的に最適化して自信を持ってデプロイできます。\n",
      "\n",
      "3. **デプロイ**: LangGraphアプリケーションを生産準備が整ったAPIやアシスタントに変換できます。\n",
      "\n",
      "LangChainは、LLMや関連技術（埋め込みモデルやベクターストアなど）に対する標準インターフェースを実装しており、数百のプロバイダーと統合されています。また、複数のオープンソースライブラリで構成されており、特に`langchain-core`、統合パッケージ、`langchain`、`langchain-community`、`langgraph`などが含まれています。\n",
      "\n",
      "このフレームワークは、開発者がアプリケーションを簡単に構築できるように設計されており、さまざまなコンポーネントを組み合わせて使用することができます。\n"
     ]
    }
   ],
   "source": [
    "print(output)"
   ]
  },
  {
   "cell_type": "code",
   "execution_count": 29,
   "id": "9986d631-252b-40b5-aa2c-d1ea94e11836",
   "metadata": {},
   "outputs": [
    {
     "data": {
      "text/plain": [
       "'今日、2024年11月19日（火）の東京の天気は「晴時々曇」で、最高気温は13℃、最低気温は8℃です。降水確率は0％で、風は北の風から北東の風に変わります。'"
      ]
     },
     "execution_count": 29,
     "metadata": {},
     "output_type": "execute_result"
    }
   ],
   "source": [
    "route_rag_chain.invoke(\"今日の東京の天気は？\")"
   ]
  },
  {
   "cell_type": "markdown",
   "id": "1da030ed-4e3a-48ed-aab4-52aac3854daa",
   "metadata": {},
   "source": [
    "## ハイブリッド検索\n",
    "- 複数のRetrieverの検索結果を組み合わせて結果を出力\n",
    "- TF-IDFの拡張機能であるBM25とEmbeddingモデルの２つを組み合わせる\n",
    "   - 固有名詞や専門用語を扱う場合はBM25の方が有効な可能性がある"
   ]
  },
  {
   "cell_type": "code",
   "execution_count": 32,
   "id": "3e91c469-283a-4ff5-a7c4-b3b338efcb4a",
   "metadata": {},
   "outputs": [],
   "source": [
    "from langchain_community.retrievers import BM25Retriever\n",
    "\n",
    "# EmbeddingモデルのRetriever\n",
    "chroma_retriever = retriever.with_config(\n",
    "    {\"run_name\": \"chroma_retriever\"}\n",
    ")\n",
    "\n",
    "# BM25を使った検索用のRetriever\n",
    "bm25_retriever = BM25Retriever.from_documents(documents).with_config(\n",
    "    {\"run_name\": \"bm25_retriever\"}\n",
    ")"
   ]
  },
  {
   "cell_type": "code",
   "execution_count": 33,
   "id": "f2414465-e070-465c-8cfd-b45a2e1ef98a",
   "metadata": {},
   "outputs": [],
   "source": [
    "from langchain_core.runnables import RunnableParallel\n",
    "\n",
    "hybrid_retriever = (\n",
    "    RunnableParallel({\n",
    "        \"chroma_documents\": chroma_retriever,\n",
    "        \"bm25_documents\": bm25_retriever,\n",
    "    })\n",
    "    | (lambda x: [x[\"chroma_documents\"], x[\"bm25_documents\"]])\n",
    "    | reciprocal_rank_fusion # 検索結果の融合にRRFを使う\n",
    ")"
   ]
  },
  {
   "cell_type": "code",
   "execution_count": 34,
   "id": "66d87219-714c-4b98-ae48-f91d3ff106e2",
   "metadata": {},
   "outputs": [],
   "source": [
    "hybrid_rag_chain = (\n",
    "    {\n",
    "        \"question\": RunnablePassthrough(),\n",
    "        \"context\": hybrid_retriever,\n",
    "    }\n",
    "    | prompt | model | StrOutputParser()\n",
    ")\n",
    "\n",
    "output = hybrid_rag_chain.invoke(\"Langchainの概要を教えて\")"
   ]
  },
  {
   "cell_type": "code",
   "execution_count": 35,
   "id": "a5463a1d-d4e5-48e1-bfd8-eb7b4894ed0a",
   "metadata": {},
   "outputs": [
    {
     "name": "stdout",
     "output_type": "stream",
     "text": [
      "LangChainは、大規模言語モデル（LLM）を活用したアプリケーションを開発するためのフレームワークです。このフレームワークは、LLMアプリケーションのライフサイクルの各段階を簡素化します。具体的には、以下のような機能があります：\n",
      "\n",
      "1. **開発**: LangChainのオープンソースコンポーネントやサードパーティの統合を使用してアプリケーションを構築できます。LangGraphを利用して、状態を持つエージェントを作成し、ストリーミングや人間の介入をサポートします。\n",
      "\n",
      "2. **生産化**: LangSmithを使用してアプリケーションを検査、監視、評価し、継続的に最適化して自信を持ってデプロイできます。\n",
      "\n",
      "3. **デプロイ**: LangGraphアプリケーションを生産準備が整ったAPIやアシスタントに変換できます。\n",
      "\n",
      "LangChainは、チャットモデルや埋め込みモデル、ベクトルストアなどの関連技術に対する標準インターフェースを実装しており、数百のプロバイダーと統合されています。また、複数のオープンソースライブラリで構成されており、特に`langchain-core`、統合パッケージ、`langchain-community`、`langgraph`などが含まれています。\n",
      "\n",
      "さらに、LangChainは、開発者がアプリケーションを構築する際に直面するさまざまな課題に対処するための標準化されたコンポーネントインターフェース、オーケストレーション機能、観測性と評価のサポートを提供しています。\n"
     ]
    }
   ],
   "source": [
    "print(output)"
   ]
  },
  {
   "cell_type": "markdown",
   "id": "d8bacca7-f05f-4913-a2bc-fd3316c0c86b",
   "metadata": {},
   "source": [
    "### EnsembleRetrieverライブラリを使って実装\n",
    "- 重みづけを設定し、RRFで融合する"
   ]
  },
  {
   "cell_type": "code",
   "execution_count": 37,
   "id": "da1d0043-79e0-42bd-8895-3bc4464797e7",
   "metadata": {},
   "outputs": [],
   "source": [
    "from langchain.retrievers import EnsembleRetriever\n",
    "\n",
    "# initialize the ensemble retriever\n",
    "ensemble_retriever = EnsembleRetriever(\n",
    "    retrievers=[bm25_retriever, chroma_retriever], weights=[0.5, 0.5], c=60\n",
    ")"
   ]
  },
  {
   "cell_type": "code",
   "execution_count": 38,
   "id": "678cd31b-cca6-400e-aeb1-0d14f0b9b27a",
   "metadata": {},
   "outputs": [],
   "source": [
    "hybrid_rag_chain = (\n",
    "    {\n",
    "        \"question\": RunnablePassthrough(),\n",
    "        \"context\": ensemble_retriever,\n",
    "    }\n",
    "    | prompt | model | StrOutputParser()\n",
    ")\n",
    "\n",
    "output = hybrid_rag_chain.invoke(\"Langchainの概要を教えて\")"
   ]
  },
  {
   "cell_type": "code",
   "execution_count": 39,
   "id": "5be2ffe6-6af8-46fd-922c-8f5cc00a2be6",
   "metadata": {},
   "outputs": [
    {
     "name": "stdout",
     "output_type": "stream",
     "text": [
      "LangChainは、大規模言語モデル（LLM）を活用したアプリケーションを開発するためのフレームワークです。このフレームワークは、LLMアプリケーションのライフサイクルの各段階を簡素化します。具体的には、以下のような機能があります：\n",
      "\n",
      "1. **開発**: LangChainのオープンソースコンポーネントやサードパーティの統合を使用してアプリケーションを構築できます。LangGraphを利用することで、状態を持つエージェントを構築し、ストリーミングや人間の介入をサポートします。\n",
      "\n",
      "2. **生産化**: LangSmithを使用してアプリケーションを検査、監視、評価し、継続的に最適化して自信を持ってデプロイできます。\n",
      "\n",
      "3. **デプロイ**: LangGraphアプリケーションを生産準備が整ったAPIやアシスタントに変換できます。\n",
      "\n",
      "LangChainは、LLMや関連技術（埋め込みモデルやベクトルストアなど）に対する標準インターフェースを実装し、数百のプロバイダーと統合しています。また、複数のオープンソースライブラリで構成されており、各種機能を持つコンポーネントを組み合わせて複雑なアプリケーションを構築することが可能です。\n"
     ]
    }
   ],
   "source": [
    "print(output)"
   ]
  },
  {
   "cell_type": "code",
   "execution_count": null,
   "id": "2c2f35f9-4c55-4389-a83b-5cad08dfd54d",
   "metadata": {},
   "outputs": [],
   "source": []
  }
 ],
 "metadata": {
  "kernelspec": {
   "display_name": "Python 3 (ipykernel)",
   "language": "python",
   "name": "python3"
  },
  "language_info": {
   "codemirror_mode": {
    "name": "ipython",
    "version": 3
   },
   "file_extension": ".py",
   "mimetype": "text/x-python",
   "name": "python",
   "nbconvert_exporter": "python",
   "pygments_lexer": "ipython3",
   "version": "3.11.5"
  }
 },
 "nbformat": 4,
 "nbformat_minor": 5
}
