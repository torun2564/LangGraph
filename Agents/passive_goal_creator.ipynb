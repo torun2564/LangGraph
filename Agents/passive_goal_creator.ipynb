{
 "cells": [
  {
   "cell_type": "code",
   "execution_count": 1,
   "id": "0578afc5-5817-4237-9dfd-f1514df6b69a",
   "metadata": {},
   "outputs": [
    {
     "name": "stdout",
     "output_type": "stream",
     "text": [
      "Writing passive_goal_creator.py\n"
     ]
    }
   ],
   "source": [
    "%%writefile passive_goal_creator.py\n",
    "from langchain_core.prompts import ChatPromptTemplate\n",
    "from langchain_openai import ChatOpenAI\n",
    "from pydantic import BaseModel, Field\n",
    "\n",
    "class Goal(BaseModel):\n",
    "    description: str = Field(..., description=\"目標の説明\")\n",
    "\n",
    "    @property \n",
    "    def text(self) -> str: # textプロパティで「目標」の値を文字列として簡単に取得できるようにする\n",
    "        return f\"{self.description}\"\n",
    "\n",
    "class PassiveGoalCreator:\n",
    "    def __init__(self, llm: ChatOpenAI):\n",
    "        self.llm = llm\n",
    "\n",
    "    def run(self, query: str) -> Goal:\n",
    "        prompt = ChatPromptTemplate.from_template(\n",
    "            \"ユーザーの入力を分析し、明確で実行可能な目標を生成してください。\\n\"\n",
    "            \"要件:\\n\"\n",
    "            \"1. 目標は具体的かつ明確であり、実行可能なレベルで詳細化されている必要があります。\\n\"\n",
    "            \"2. あなたが実行可能な行動は以下の行動だけです。\\n\"\n",
    "            \"   - インターネットを利用して、目標を達成するための調査を行う。\\n\"\n",
    "            \"   - ユーザーのためのレポートを生成する。\\n\"\n",
    "            \"3. 決して2.以外の行動を取ってはいけません。\\n\"\n",
    "            \"ユーザーの入力: {query}\"\n",
    "        )\n",
    "        chain = prompt | self.llm.with_structured_output(Goal)\n",
    "        return chain.invoke({\"query\": query})"
   ]
  },
  {
   "cell_type": "code",
   "execution_count": null,
   "id": "e374d089-b47c-4e84-b174-21b3164b7bfe",
   "metadata": {},
   "outputs": [],
   "source": []
  }
 ],
 "metadata": {
  "kernelspec": {
   "display_name": "Python 3 (ipykernel)",
   "language": "python",
   "name": "python3"
  },
  "language_info": {
   "codemirror_mode": {
    "name": "ipython",
    "version": 3
   },
   "file_extension": ".py",
   "mimetype": "text/x-python",
   "name": "python",
   "nbconvert_exporter": "python",
   "pygments_lexer": "ipython3",
   "version": "3.11.9"
  }
 },
 "nbformat": 4,
 "nbformat_minor": 5
}
