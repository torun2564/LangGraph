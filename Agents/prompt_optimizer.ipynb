{
 "cells": [
  {
   "cell_type": "code",
   "execution_count": 1,
   "id": "debd9dc9-c612-4864-a7e8-ca68aaf0bbd3",
   "metadata": {},
   "outputs": [
    {
     "name": "stdout",
     "output_type": "stream",
     "text": [
      "Writing prompt_optimizer.py\n"
     ]
    }
   ],
   "source": [
    "%%writefile prompt_optimizer.py\n",
    "from langchain_core.prompts import ChatPromptTemplate\n",
    "from langchain_openai import ChatOpenAI\n",
    "from pydantic import BaseModel, Field\n",
    "\n",
    "class OptimizedGoal(BaseModel):\n",
    "    description: str = Field(..., description=\"目標の説明\")\n",
    "    metrics: str = Field(..., description=\"目標の達成度を測定する方法\")\n",
    "\n",
    "    @property\n",
    "    def text(self) -> str:\n",
    "        return f\"{self.description}(測定基準: {self.metrics})\"\n",
    "\n",
    "class PromptOptimizer:\n",
    "    def __init__(self, llm: ChatOpenAI):\n",
    "        self.llm = llm\n",
    "\n",
    "    def run(self, query: str) -> OptimizedGoal:\n",
    "        prompt = ChatPromptTemplate.from_template(\n",
    "            \"あなたは目標設定の専門家です。以下の目標をSMART原則（Specific: 具体的、Measurable: 測定可能、Achievable: 達成可能、Relevant: 関連性が高い、Time-bound: 期限がある）に基づいて最適化してください。\\n\\n\"\n",
    "            \"# 元の目標：\\n\"\n",
    "            \"{query}\\n\\n\"\n",
    "            \"# 指示:\\n\"\n",
    "            \"1. 元の目標を分析し、不足している要素や改善点を特定してください。\\n\"\n",
    "            \"2. あなたが実行可能な行動は以下の行動だけです。\\n\"\n",
    "            \"   - インターネットを利用して、目標を達成するための調査を行う。\\n\"\n",
    "            \"   - ユーザーのためのレポートを生成する。\\n\"\n",
    "            \"3. SMART原則の各要素を考慮しながら、目標を具体的かつ詳細に記載してください。\\n\"\n",
    "            \"   - 一切抽象的な表現を含んではいけません。\\n\"\n",
    "            \"   - 必ず全ての単語が実行可能かつ具体的であることを確認してください。\\n\"\n",
    "            \"4. 目標の達成度を測定する方法を具体的かつ詳細に記載してください。\\n\"\n",
    "            \"5. 元の目標で期限が指定されていない場合は、期限を考慮する必要はありません。\\n\"\n",
    "            \"6. REMEMBER: 決して2.以外の行動を取ってはいけません。\"\n",
    "        )\n",
    "        chain = prompt | self.llm.with_structured_output(OptimizedGoal)\n",
    "        return chain.invoke({\"query\": query})"
   ]
  },
  {
   "cell_type": "code",
   "execution_count": null,
   "id": "f01b1a7f-87d9-44af-8b56-542b0174283f",
   "metadata": {},
   "outputs": [],
   "source": []
  }
 ],
 "metadata": {
  "kernelspec": {
   "display_name": "Python 3 (ipykernel)",
   "language": "python",
   "name": "python3"
  },
  "language_info": {
   "codemirror_mode": {
    "name": "ipython",
    "version": 3
   },
   "file_extension": ".py",
   "mimetype": "text/x-python",
   "name": "python",
   "nbconvert_exporter": "python",
   "pygments_lexer": "ipython3",
   "version": "3.11.9"
  }
 },
 "nbformat": 4,
 "nbformat_minor": 5
}
