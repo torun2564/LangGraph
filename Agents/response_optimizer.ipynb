{
 "cells": [
  {
   "cell_type": "code",
   "execution_count": 1,
   "id": "69dd0f0a-b349-40a3-b06e-f60bf3b0ba9e",
   "metadata": {},
   "outputs": [
    {
     "name": "stdout",
     "output_type": "stream",
     "text": [
      "Writing response_optimizer.py\n"
     ]
    }
   ],
   "source": [
    "%%writefile response_optimizer.py\n",
    "from langchain_core.prompts import ChatPromptTemplate\n",
    "from langchain_core.output_parsers import StrOutputParser\n",
    "from langchain_openai import ChatOpenAI\n",
    "from pydantic import BaseModel, Field\n",
    "\n",
    "class ResponseOptimizer:\n",
    "    def __init__(self, llm:ChatOpenAI):\n",
    "        self.llm = llm\n",
    "\n",
    "    def run(self, query: str) -> str:\n",
    "        prompt = ChatPromptTemplate.from_messages(\n",
    "            [\n",
    "                (\n",
    "                    \"system\",\n",
    "                    \"あなたはAIエージェントシステムのレスポンス最適化スペシャリストです。与えられた目標に対して、エージェントが目標にあったレスポンスを変えるためのレスポンス仕様を策定してください。\",\n",
    "                ),\n",
    "                (\n",
    "                    \"human\",\n",
    "                    \"以下の手順に従って、レスポンス最適化プロンプトを作成してください:\\n\\n\"\n",
    "                    \"1. 目標分析:\\n\"\n",
    "                    \"   - 提示された目標を分析し、主要な要素や意図を特定してください。\\n\\n\"\n",
    "                    \"2. レスポンス仕様の策定:\\n\"\n",
    "                    \"   - 目標達成のための最適なレスポンス仕様を考案してください。\\n\"\n",
    "                    \"   - トーン、構造、内容の焦点などを考慮に入れてください。\\n\\n\"\n",
    "                    \"3. 具体的な指示の作成:\\n\"\n",
    "                    \"   - 事前に収集された情報から、ユーザーの期待に沿ったレスポンスをするために必要な、AIエージェントに対する明確で実行可能な指示を作成してください。\\n\"\n",
    "                    \"   - あなたの指示によってAIエージェントが実行可能なのは、すでに調査済みの結果をまとめることだけです。\\n\"\n",
    "                    \"   - インターネットへのアクセスはできません。\\n\\n\"\n",
    "                    \"4. 例の提供:\\n\"\n",
    "                    \"   - 可能であれば、目標に沿ったレスポンスの例を１つ以上含めてください。\\n\\n\"\n",
    "                    \"5. 評価基準の設定:\\n\"\n",
    "                    \"   - レスポンスの効果を測定するための基準を定義してください。\\n\\n\"\n",
    "                    \"以下の構造でレスポンス最適化プロンプトを出力してください:\\n\\n\"\n",
    "                    \"目標分析:\\n\"\n",
    "                    \"[ここに目標の分析結果を記入]\\n\\n\"\n",
    "                    \"レスポンス仕様:\\n\"\n",
    "                    \"[ここに策定されたレスポンス仕様を記入]\\n\\n\"\n",
    "                    \"AIエージェントへの指示:\\n\"\n",
    "                    \"[ここにAIエージェントへの具体的な指示を記入]\\n\\n\"\n",
    "                    \"レスポンス例:\\n\"\n",
    "                    \"[ここにレスポンス例を記入]\\n\\n\"\n",
    "                    \"評価基準]\\n\"\n",
    "                    \"[ここに評価基準を記入]\\n\\n\"\n",
    "                    \"では、以下の目標に対するレスポンス最適化プロンプトを作成してください:\\n\"\n",
    "                    \"{query}\",\n",
    "                ),\n",
    "            ]\n",
    "        )\n",
    "        chain = prompt | self.llm | StrOutputParser()\n",
    "        return chain.invoke({\"query\": query})"
   ]
  },
  {
   "cell_type": "code",
   "execution_count": null,
   "id": "7c9ed8c3-6f22-4cb1-8e86-1f97e2682a8f",
   "metadata": {},
   "outputs": [],
   "source": []
  }
 ],
 "metadata": {
  "kernelspec": {
   "display_name": "Python 3 (ipykernel)",
   "language": "python",
   "name": "python3"
  },
  "language_info": {
   "codemirror_mode": {
    "name": "ipython",
    "version": 3
   },
   "file_extension": ".py",
   "mimetype": "text/x-python",
   "name": "python",
   "nbconvert_exporter": "python",
   "pygments_lexer": "ipython3",
   "version": "3.11.9"
  }
 },
 "nbformat": 4,
 "nbformat_minor": 5
}
