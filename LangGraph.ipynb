{
 "cells": [
  {
   "cell_type": "code",
   "execution_count": 6,
   "id": "2c25b104-1b23-4166-a2a4-3361e2d7209e",
   "metadata": {},
   "outputs": [],
   "source": [
    "import os\n",
    "\n",
    "os.environ[\"LANGCHAIN_TRACING_V2\"]=\"true\"\n",
    "os.environ[\"LANGCHAIN_ENDPOINT\"]=\"https://api.smith.langchain.com\"\n",
    "os.environ[\"LANGCHAIN_API_KEY\"]=\"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\"\n",
    "os.environ[\"LANGCHAIN_PROJECT\"]=\"AI-Agent\""
   ]
  },
  {
   "cell_type": "markdown",
   "id": "ef232951-2e12-4917-95f7-d5c9f66914b0",
   "metadata": {},
   "source": [
    "# ロールの定義"
   ]
  },
  {
   "cell_type": "code",
   "execution_count": 7,
   "id": "b1985de3-9879-424f-82ec-99e2e637b2e7",
   "metadata": {},
   "outputs": [],
   "source": [
    "ROLES = {\n",
    "    \"1\": {\n",
    "        \"name\": \"一般知識エキスパート\",\n",
    "        \"description\": \"幅広い分野の一般的な質問に答える\",\n",
    "        \"details\": \"幅広い分野の一般的な質問に対して、正確でわかりやすい回答を提供してください。\"\n",
    "    },\n",
    "    \"2\": {\n",
    "        \"name\": \"生成AI製品エキスパート\",\n",
    "        \"description\": \"生成AIや関連製品、技術に関する専門的な質問に答える\",\n",
    "        \"details\": \"生成AIや関連製品、技術に関する専門的な質問に対して、最新の情報と深い洞察を提供してください。\"\n",
    "    },\n",
    "    \"3\": {\n",
    "    \"name\": \"カウンセラー\",\n",
    "    \"description\": \"個人的な悩みや心理的な問題に対してサポートを提供する\",\n",
    "    \"details\": \"個人的な悩みや心理的な問題に対して、共感的で支援的な回答を提供し、可能であれば適切なアドバイスも行ってください。\"\n",
    "    }\n",
    "}"
   ]
  },
  {
   "cell_type": "markdown",
   "id": "07db9b42-6c3f-41dd-a7ba-3c08239a169a",
   "metadata": {},
   "source": [
    "# ステートの定義"
   ]
  },
  {
   "cell_type": "code",
   "execution_count": 4,
   "id": "23e0fc7b-2f44-4b02-ac85-e25931666c63",
   "metadata": {},
   "outputs": [],
   "source": [
    "import operator\n",
    "from typing import Annotated\n",
    "\n",
    "from pydantic import BaseModel, Field\n",
    "from langgraph.graph import StateGraph\n",
    "\n",
    "class State(BaseModel):\n",
    "    query: str = Field(\n",
    "        ..., \n",
    "        description=\"ユーザーからの質問\"\n",
    "    )\n",
    "    current_role: str = Field(\n",
    "        default=\"\", \n",
    "        description=\"選定された回答ロール\"\n",
    "    )\n",
    "    messages: Annotated[list[str], operator.add] = Field(\n",
    "        default=[], \n",
    "        description=\"回答履歴\"\n",
    "    )\n",
    "    current_judge: bool = Field(\n",
    "        default=False,\n",
    "        description=\"品質チェックの結果\"\n",
    "    )\n",
    "    judgement_reason: str = Field(\n",
    "        default=\"\",\n",
    "        description=\"品質チェックの判定理由\"\n",
    "    )"
   ]
  },
  {
   "cell_type": "markdown",
   "id": "28d6de29-8138-47ef-bc8c-40297ef294a2",
   "metadata": {},
   "source": [
    "# Chat modelの初期化"
   ]
  },
  {
   "cell_type": "code",
   "execution_count": 9,
   "id": "cbcd4569-c3eb-493e-8b45-931fa51d3a05",
   "metadata": {},
   "outputs": [],
   "source": [
    "from langchain_openai import ChatOpenAI\n",
    "from langchain_core.runnables import ConfigurableField\n",
    "\n",
    "llm = ChatOpenAI(model=\"gpt-4o\", temperature=0.0)\n",
    "\n",
    "# 後からmax_tokensの値を変更できるように、変更可能なフィールドを宣言\n",
    "llm = llm.configurable_fields(max_tokens=ConfigurableField(id=\"max_tokens\"))"
   ]
  },
  {
   "cell_type": "markdown",
   "id": "7a1a1d8c-60c1-4ea1-819c-dd795db61463",
   "metadata": {},
   "source": [
    "# ノードの定義"
   ]
  },
  {
   "cell_type": "markdown",
   "id": "9936bbe4-c259-4f78-9f2d-98a8160e7dde",
   "metadata": {},
   "source": [
    "## Selectionノード"
   ]
  },
  {
   "cell_type": "code",
   "execution_count": 11,
   "id": "5e6fc0f5-c9fb-42b5-8b90-369ef587ac59",
   "metadata": {},
   "outputs": [],
   "source": [
    "from typing import Any\n",
    "from langchain_core.prompts import ChatPromptTemplate\n",
    "from langchain_core.output_parsers import StrOutputParser\n",
    "\n",
    "def selection_node(state: State) -> dict[str, Any]:\n",
    "    query = state.query\n",
    "    role_options = \"\\n\".join([f\"{k}. {v['name']}: {v['description']}\" for k, v in ROLES.items()])\n",
    "    prompt = ChatPromptTemplate.from_template(\n",
    "    \"\"\"\n",
    "    質問を分析し、最も適切な回答担当ロールを選択してください。\n",
    "\n",
    "    選択肢：\n",
    "    {role_options}\n",
    "\n",
    "    回答は選択肢の番号(1, 2, または3)のみを返してください。\n",
    "\n",
    "    質問： {query}\n",
    "    \"\"\".strip() # .strip()で文字列の空白やスペースを削除\n",
    "    )\n",
    "\n",
    "    # 選択肢の番号のみを返すことを期待したいため、max_tokensの値を1に変更\n",
    "    chain = prompt | llm.with_config(configurable=dict(max_tokens=1)) | StrOutputParser()\n",
    "    role_number = chain.invoke({\"role_options\": role_options, \"query\": query})\n",
    "\n",
    "    selected_role = ROLES[role_number.strip()][\"name\"]\n",
    "    return {\"current_role\": selected_role}"
   ]
  },
  {
   "cell_type": "markdown",
   "id": "c5f90674-3bfa-4262-846d-4fc13a1bf891",
   "metadata": {},
   "source": [
    "## Answeringノード"
   ]
  },
  {
   "cell_type": "code",
   "execution_count": 12,
   "id": "1185e5f1-cdf0-4e4b-a933-a162337fa952",
   "metadata": {},
   "outputs": [],
   "source": [
    "def answering_node(state: State) -> dict[str, Any]:\n",
    "    query = state.query\n",
    "    role = state.current_role\n",
    "    role_details = \"\\n\".join([f\"- {v['name']}: {v['details']}\" for v in ROLES.values()])\n",
    "    prompt = ChatPromptTemplate.from_template(\n",
    "    \"\"\"\n",
    "    あなたは{role}として回答してください。以下の質問に対して、あなたの役割に基づいた適切な回答を提供してください。\n",
    "\n",
    "    役割の詳細：{role_details}\n",
    "\n",
    "    質問：{query}\n",
    "\n",
    "    回答：\n",
    "    \"\"\".strip()\n",
    "    )\n",
    "\n",
    "    chain = prompt | llm | StrOutputParser()\n",
    "    answer = chain.invoke({\"role\": role, \"role_details\": role_details, \"query\": query})\n",
    "    return {\"messages\": [answer]}"
   ]
  },
  {
   "cell_type": "markdown",
   "id": "d150925b-56ae-4e52-860f-d3ef547548d4",
   "metadata": {},
   "source": [
    "## Checkノード"
   ]
  },
  {
   "cell_type": "code",
   "execution_count": 13,
   "id": "152cf7a7-17d9-4ef8-a9a6-83c6de3cd871",
   "metadata": {},
   "outputs": [],
   "source": [
    "class Judgement(BaseModel):\n",
    "    reason: str = Field(\n",
    "        default=\"\",\n",
    "        description=\"判定理由\"\n",
    "    )\n",
    "    judge: bool = Field(\n",
    "        default=False,\n",
    "        description=\"判定結果\"\n",
    "    )\n",
    "\n",
    "def check_node(state: State) -> dict[str, Any]:\n",
    "    query = state.query\n",
    "    answer = state.messages[-1]\n",
    "    prompt = ChatPromptTemplate.from_template(\n",
    "    \"\"\"\n",
    "    以下の回答の品質をチェックし、問題がある場合は'False'、問題がない場合は'True'を回答してください。また、その判断理由も説明してください。\n",
    "\n",
    "    ユーザーからの質問： {query}\n",
    "    回答： {answer}\n",
    "    \"\"\".strip()\n",
    "    )\n",
    "    chain = prompt | llm.with_structured_output(Judgement)\n",
    "    result: Judgement = chain.invoke({\"query\": query, \"answer\": answer})\n",
    "\n",
    "    return {\"current_judge\": result.judge, \"judgement_reason\": result.reason}"
   ]
  },
  {
   "cell_type": "markdown",
   "id": "2ce259c7-ba49-4300-8ca1-2f67fd1dd234",
   "metadata": {},
   "source": [
    "# グラフの作成"
   ]
  },
  {
   "cell_type": "code",
   "execution_count": 15,
   "id": "ed21a863-218a-4b4d-b93c-d8043ecef2a7",
   "metadata": {},
   "outputs": [],
   "source": [
    "from langgraph.graph import StateGraph\n",
    "\n",
    "workflow = StateGraph(State)"
   ]
  },
  {
   "cell_type": "markdown",
   "id": "43f75da3-6784-4347-bbde-52ec30d1df68",
   "metadata": {},
   "source": [
    "# ノードの追加"
   ]
  },
  {
   "cell_type": "code",
   "execution_count": 16,
   "id": "b542036c-25f7-462f-8afe-01c197e596d8",
   "metadata": {},
   "outputs": [],
   "source": [
    "workflow.add_node(\"selection\", selection_node)\n",
    "workflow.add_node(\"answering\", answering_node)\n",
    "workflow.add_node(\"check\", check_node)"
   ]
  },
  {
   "cell_type": "markdown",
   "id": "bb753523-3ed8-442e-af40-e38cde7ec7bf",
   "metadata": {},
   "source": [
    "# エッジの定義"
   ]
  },
  {
   "cell_type": "code",
   "execution_count": 17,
   "id": "bb4e99eb-d87d-4a6e-ae65-b2c1efd0dd16",
   "metadata": {},
   "outputs": [],
   "source": [
    "# selectionノードから処理を開始\n",
    "workflow.set_entry_point(\"selection\")\n",
    "\n",
    "# selectionノードからansweringノードへ\n",
    "workflow.add_edge(\"selection\", \"answering\")\n",
    "\n",
    "# answeringノードからcheckノードへ\n",
    "workflow.add_edge(\"answering\", \"check\")"
   ]
  },
  {
   "cell_type": "markdown",
   "id": "79457715-df5c-4531-82cf-9e1732d5d73f",
   "metadata": {},
   "source": [
    "# 条件付きエッジの定義"
   ]
  },
  {
   "cell_type": "code",
   "execution_count": 18,
   "id": "333523ad-574d-44be-aa08-c9d6e25f8417",
   "metadata": {},
   "outputs": [],
   "source": [
    "from langgraph.graph import END\n",
    "\n",
    "# checkノードから次のノードへの遷移に条件付きエッジを定義\n",
    "# state.current_judgeの値がTrueならENDノードへ、Falseならselectionノードへ\n",
    "workflow.add_conditional_edges(\n",
    "    \"check\",\n",
    "    lambda state: state.current_judge,\n",
    "    {True: END, False: \"selection\"}\n",
    ")"
   ]
  },
  {
   "cell_type": "markdown",
   "id": "9e0c5768-2aa8-44f9-a755-5ff9055dc830",
   "metadata": {},
   "source": [
    "# グラフのコンパイル"
   ]
  },
  {
   "cell_type": "code",
   "execution_count": 19,
   "id": "7a09cf8d-dc0f-4eda-976a-a81f89bafbee",
   "metadata": {},
   "outputs": [],
   "source": [
    "compiled = workflow.compile()"
   ]
  },
  {
   "cell_type": "markdown",
   "id": "0d8db0fb-a44d-4460-8cf2-389fee0b85c5",
   "metadata": {},
   "source": [
    "# グラフの実行"
   ]
  },
  {
   "cell_type": "code",
   "execution_count": 20,
   "id": "36914a74-ecd3-4b74-972d-268dfecf0a8d",
   "metadata": {},
   "outputs": [],
   "source": [
    "initial_state = State(query=\"生成AIについて教えてください\")\n",
    "result = compiled.invoke(initial_state)"
   ]
  },
  {
   "cell_type": "code",
   "execution_count": 24,
   "id": "ebfa546b-84dd-44d3-8522-11c796bca3f0",
   "metadata": {},
   "outputs": [
    {
     "name": "stdout",
     "output_type": "stream",
     "text": [
      "{'current_judge': True,\n",
      " 'current_role': '生成AI製品エキスパート',\n",
      " 'judgement_reason': '回答は生成AIについての基本的な情報を網羅しており、自然言語処理、画像生成、音声合成などの具体例を挙げて説明しています。また、生成AIの応用分野や倫理的な課題についても触れており、バランスの取れた内容です。特に誤った情報や不正確な記述は見当たらず、全体として質の高い回答と判断できます。',\n",
      " 'messages': ['生成AI（生成的人工知能）とは、人工知能の一分野であり、新しいデータやコンテンツを生成する能力を持つモデルやシステムを指します。これには、テキスト、画像、音声、音楽、ビデオなど、さまざまな形式のコンテンツが含まれます。生成AIの代表的な技術には、以下のようなものがあります。\\n'\n",
      "              '\\n'\n",
      "              '1. **自然言語処理（NLP）モデル**: 例えば、GPT（Generative Pre-trained '\n",
      "              'Transformer）シリーズは、テキストの生成や翻訳、要約などに利用されます。これらのモデルは、大量のテキストデータを学習し、人間のように自然な文章を生成することができます。\\n'\n",
      "              '\\n'\n",
      "              '2. **画像生成モデル**: GAN（Generative Adversarial '\n",
      "              'Networks）やVAE（Variational '\n",
      "              'Autoencoders）などの技術を用いて、新しい画像を生成することができます。これにより、アート作品の創作や、現実には存在しない人物の顔を生成することが可能です。\\n'\n",
      "              '\\n'\n",
      "              '3. **音声合成**: '\n",
      "              'TTS（Text-to-Speech）技術を用いて、テキストから自然な音声を生成することができます。これにより、音声アシスタントやナレーションの自動生成が可能になります。\\n'\n",
      "              '\\n'\n",
      "              '生成AIは、クリエイティブなプロセスを支援し、効率を向上させるために多くの分野で活用されています。例えば、広告やマーケティング、ゲーム開発、映画制作、教育などでの応用が進んでいます。しかし、生成AIの利用には倫理的な課題も伴います。例えば、偽情報の生成や著作権の問題などが挙げられます。これらの課題に対処するためには、技術の透明性や責任ある利用が求められています。\\n'\n",
      "              '\\n'\n",
      "              '生成AIは急速に進化しており、今後も新しい応用や技術革新が期待されています。'],\n",
      " 'query': '生成AIについて教えてください'}\n"
     ]
    }
   ],
   "source": [
    "import pprint\n",
    "pprint.pprint(result)"
   ]
  },
  {
   "cell_type": "code",
   "execution_count": 22,
   "id": "2de6c277-4cd5-4d4c-aada-86c9dd47b25f",
   "metadata": {},
   "outputs": [
    {
     "name": "stdout",
     "output_type": "stream",
     "text": [
      "生成AI（生成的人工知能）とは、人工知能の一分野であり、新しいデータやコンテンツを生成する能力を持つモデルやシステムを指します。これには、テキスト、画像、音声、音楽、ビデオなど、さまざまな形式のコンテンツが含まれます。生成AIの代表的な技術には、以下のようなものがあります。\n",
      "\n",
      "1. **自然言語処理（NLP）モデル**: 例えば、GPT（Generative Pre-trained Transformer）シリーズは、テキストの生成や翻訳、要約などに利用されます。これらのモデルは、大量のテキストデータを学習し、人間のように自然な文章を生成することができます。\n",
      "\n",
      "2. **画像生成モデル**: GAN（Generative Adversarial Networks）やVAE（Variational Autoencoders）などの技術を用いて、新しい画像を生成することができます。これにより、アート作品の創作や、現実には存在しない人物の顔を生成することが可能です。\n",
      "\n",
      "3. **音声合成**: TTS（Text-to-Speech）技術を用いて、テキストから自然な音声を生成することができます。これにより、音声アシスタントやナレーションの自動生成が可能になります。\n",
      "\n",
      "生成AIは、クリエイティブなプロセスを支援し、効率を向上させるために多くの分野で活用されています。例えば、広告やマーケティング、ゲーム開発、映画制作、教育などでの応用が進んでいます。しかし、生成AIの利用には倫理的な課題も伴います。例えば、偽情報の生成や著作権の問題などが挙げられます。これらの課題に対処するためには、技術の透明性や責任ある利用が求められています。\n",
      "\n",
      "生成AIは急速に進化しており、今後も新しい応用や技術革新が期待されています。\n"
     ]
    }
   ],
   "source": [
    "print(result[\"messages\"][-1])"
   ]
  },
  {
   "cell_type": "markdown",
   "id": "7e830483-8a0b-4500-b838-a8ff289eea68",
   "metadata": {},
   "source": [
    "# グラフ構造の可視化"
   ]
  },
  {
   "cell_type": "code",
   "execution_count": 30,
   "id": "7a52ce32-d073-4fd4-9d49-cc3bc7f1a8f5",
   "metadata": {},
   "outputs": [
    {
     "data": {
      "image/png": "[encoded data removed]",
      "text/plain": [
       "<IPython.core.display.Image object>"
      ]
     },
     "metadata": {},
     "output_type": "display_data"
    }
   ],
   "source": [
    "from IPython.display import Image\n",
    "import nest_asyncio\n",
    "\n",
    "nest_asyncio.apply()  # Required for Jupyter Notebook to run async functions\n",
    "\n",
    "display(Image(compiled.get_graph().draw_mermaid_png()))"
   ]
  },
  {
   "cell_type": "code",
   "execution_count": null,
   "id": "c1e9616c-0156-4373-85da-cb3cca0e26ee",
   "metadata": {},
   "outputs": [],
   "source": []
  }
 ],
 "metadata": {
  "kernelspec": {
   "display_name": "Python 3 (ipykernel)",
   "language": "python",
   "name": "python3"
  },
  "language_info": {
   "codemirror_mode": {
    "name": "ipython",
    "version": 3
   },
   "file_extension": ".py",
   "mimetype": "text/x-python",
   "name": "python",
   "nbconvert_exporter": "python",
   "pygments_lexer": "ipython3",
   "version": "3.11.5"
  }
 },
 "nbformat": 4,
 "nbformat_minor": 5
}
