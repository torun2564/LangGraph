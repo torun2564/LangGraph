{
 "cells": [
  {
   "cell_type": "markdown",
   "id": "38f20fec-63e1-4489-b0da-dde4929739a9",
   "metadata": {},
   "source": [
    "# 1. Q&A アプリケーション"
   ]
  },
  {
   "cell_type": "code",
   "execution_count": 6,
   "id": "2c25b104-1b23-4166-a2a4-3361e2d7209e",
   "metadata": {},
   "outputs": [],
   "source": [
    "import os\n",
    "\n",
    "os.environ[\"LANGCHAIN_TRACING_V2\"]=\"true\"\n",
    "os.environ[\"LANGCHAIN_ENDPOINT\"]=\"https://api.smith.langchain.com\"\n",
    "os.environ[\"LANGCHAIN_API_KEY\"]=\"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\"\n",
    "os.environ[\"LANGCHAIN_PROJECT\"]=\"AI-Agent\""
   ]
  },
  {
   "cell_type": "markdown",
   "id": "ef232951-2e12-4917-95f7-d5c9f66914b0",
   "metadata": {},
   "source": [
    "## ロールの定義"
   ]
  },
  {
   "cell_type": "code",
   "execution_count": 7,
   "id": "b1985de3-9879-424f-82ec-99e2e637b2e7",
   "metadata": {},
   "outputs": [],
   "source": [
    "ROLES = {\n",
    "    \"1\": {\n",
    "        \"name\": \"一般知識エキスパート\",\n",
    "        \"description\": \"幅広い分野の一般的な質問に答える\",\n",
    "        \"details\": \"幅広い分野の一般的な質問に対して、正確でわかりやすい回答を提供してください。\"\n",
    "    },\n",
    "    \"2\": {\n",
    "        \"name\": \"生成AI製品エキスパート\",\n",
    "        \"description\": \"生成AIや関連製品、技術に関する専門的な質問に答える\",\n",
    "        \"details\": \"生成AIや関連製品、技術に関する専門的な質問に対して、最新の情報と深い洞察を提供してください。\"\n",
    "    },\n",
    "    \"3\": {\n",
    "    \"name\": \"カウンセラー\",\n",
    "    \"description\": \"個人的な悩みや心理的な問題に対してサポートを提供する\",\n",
    "    \"details\": \"個人的な悩みや心理的な問題に対して、共感的で支援的な回答を提供し、可能であれば適切なアドバイスも行ってください。\"\n",
    "    }\n",
    "}"
   ]
  },
  {
   "cell_type": "markdown",
   "id": "07db9b42-6c3f-41dd-a7ba-3c08239a169a",
   "metadata": {},
   "source": [
    "## ステートの定義"
   ]
  },
  {
   "cell_type": "code",
   "execution_count": 4,
   "id": "23e0fc7b-2f44-4b02-ac85-e25931666c63",
   "metadata": {},
   "outputs": [],
   "source": [
    "import operator\n",
    "from typing import Annotated\n",
    "\n",
    "from pydantic import BaseModel, Field\n",
    "from langgraph.graph import StateGraph\n",
    "\n",
    "class State(BaseModel):\n",
    "    query: str = Field(\n",
    "        ..., \n",
    "        description=\"ユーザーからの質問\"\n",
    "    )\n",
    "    current_role: str = Field(\n",
    "        default=\"\", \n",
    "        description=\"選定された回答ロール\"\n",
    "    )\n",
    "    messages: Annotated[list[str], operator.add] = Field(\n",
    "        default=[], \n",
    "        description=\"回答履歴\"\n",
    "    )\n",
    "    current_judge: bool = Field(\n",
    "        default=False,\n",
    "        description=\"品質チェックの結果\"\n",
    "    )\n",
    "    judgement_reason: str = Field(\n",
    "        default=\"\",\n",
    "        description=\"品質チェックの判定理由\"\n",
    "    )"
   ]
  },
  {
   "cell_type": "markdown",
   "id": "28d6de29-8138-47ef-bc8c-40297ef294a2",
   "metadata": {},
   "source": [
    "## Chat modelの初期化"
   ]
  },
  {
   "cell_type": "code",
   "execution_count": 9,
   "id": "cbcd4569-c3eb-493e-8b45-931fa51d3a05",
   "metadata": {},
   "outputs": [],
   "source": [
    "from langchain_openai import ChatOpenAI\n",
    "from langchain_core.runnables import ConfigurableField\n",
    "\n",
    "llm = ChatOpenAI(model=\"gpt-4o\", temperature=0.0)\n",
    "\n",
    "# 後からmax_tokensの値を変更できるように、変更可能なフィールドを宣言\n",
    "llm = llm.configurable_fields(max_tokens=ConfigurableField(id=\"max_tokens\"))"
   ]
  },
  {
   "cell_type": "markdown",
   "id": "7a1a1d8c-60c1-4ea1-819c-dd795db61463",
   "metadata": {},
   "source": [
    "## ノードの定義"
   ]
  },
  {
   "cell_type": "markdown",
   "id": "9936bbe4-c259-4f78-9f2d-98a8160e7dde",
   "metadata": {},
   "source": [
    "### Selectionノード"
   ]
  },
  {
   "cell_type": "code",
   "execution_count": 11,
   "id": "5e6fc0f5-c9fb-42b5-8b90-369ef587ac59",
   "metadata": {},
   "outputs": [],
   "source": [
    "from typing import Any\n",
    "from langchain_core.prompts import ChatPromptTemplate\n",
    "from langchain_core.output_parsers import StrOutputParser\n",
    "\n",
    "def selection_node(state: State) -> dict[str, Any]:\n",
    "    query = state.query\n",
    "    role_options = \"\\n\".join([f\"{k}. {v['name']}: {v['description']}\" for k, v in ROLES.items()])\n",
    "    prompt = ChatPromptTemplate.from_template(\n",
    "    \"\"\"\n",
    "    質問を分析し、最も適切な回答担当ロールを選択してください。\n",
    "\n",
    "    選択肢：\n",
    "    {role_options}\n",
    "\n",
    "    回答は選択肢の番号(1, 2, または3)のみを返してください。\n",
    "\n",
    "    質問： {query}\n",
    "    \"\"\".strip() # .strip()で文字列の空白やスペースを削除\n",
    "    )\n",
    "\n",
    "    # 選択肢の番号のみを返すことを期待したいため、max_tokensの値を1に変更\n",
    "    chain = prompt | llm.with_config(configurable=dict(max_tokens=1)) | StrOutputParser()\n",
    "    role_number = chain.invoke({\"role_options\": role_options, \"query\": query})\n",
    "\n",
    "    selected_role = ROLES[role_number.strip()][\"name\"]\n",
    "    return {\"current_role\": selected_role}"
   ]
  },
  {
   "cell_type": "markdown",
   "id": "c5f90674-3bfa-4262-846d-4fc13a1bf891",
   "metadata": {},
   "source": [
    "### Answeringノード"
   ]
  },
  {
   "cell_type": "code",
   "execution_count": 12,
   "id": "1185e5f1-cdf0-4e4b-a933-a162337fa952",
   "metadata": {},
   "outputs": [],
   "source": [
    "def answering_node(state: State) -> dict[str, Any]:\n",
    "    query = state.query\n",
    "    role = state.current_role\n",
    "    role_details = \"\\n\".join([f\"- {v['name']}: {v['details']}\" for v in ROLES.values()])\n",
    "    prompt = ChatPromptTemplate.from_template(\n",
    "    \"\"\"\n",
    "    あなたは{role}として回答してください。以下の質問に対して、あなたの役割に基づいた適切な回答を提供してください。\n",
    "\n",
    "    役割の詳細：{role_details}\n",
    "\n",
    "    質問：{query}\n",
    "\n",
    "    回答：\n",
    "    \"\"\".strip()\n",
    "    )\n",
    "\n",
    "    chain = prompt | llm | StrOutputParser()\n",
    "    answer = chain.invoke({\"role\": role, \"role_details\": role_details, \"query\": query})\n",
    "    return {\"messages\": [answer]}"
   ]
  },
  {
   "cell_type": "markdown",
   "id": "d150925b-56ae-4e52-860f-d3ef547548d4",
   "metadata": {},
   "source": [
    "### Checkノード"
   ]
  },
  {
   "cell_type": "code",
   "execution_count": 13,
   "id": "152cf7a7-17d9-4ef8-a9a6-83c6de3cd871",
   "metadata": {},
   "outputs": [],
   "source": [
    "class Judgement(BaseModel):\n",
    "    reason: str = Field(\n",
    "        default=\"\",\n",
    "        description=\"判定理由\"\n",
    "    )\n",
    "    judge: bool = Field(\n",
    "        default=False,\n",
    "        description=\"判定結果\"\n",
    "    )\n",
    "\n",
    "def check_node(state: State) -> dict[str, Any]:\n",
    "    query = state.query\n",
    "    answer = state.messages[-1]\n",
    "    prompt = ChatPromptTemplate.from_template(\n",
    "    \"\"\"\n",
    "    以下の回答の品質をチェックし、問題がある場合は'False'、問題がない場合は'True'を回答してください。また、その判断理由も説明してください。\n",
    "\n",
    "    ユーザーからの質問： {query}\n",
    "    回答： {answer}\n",
    "    \"\"\".strip()\n",
    "    )\n",
    "    chain = prompt | llm.with_structured_output(Judgement)\n",
    "    result: Judgement = chain.invoke({\"query\": query, \"answer\": answer})\n",
    "\n",
    "    return {\"current_judge\": result.judge, \"judgement_reason\": result.reason}"
   ]
  },
  {
   "cell_type": "markdown",
   "id": "2ce259c7-ba49-4300-8ca1-2f67fd1dd234",
   "metadata": {},
   "source": [
    "## グラフの作成"
   ]
  },
  {
   "cell_type": "code",
   "execution_count": 15,
   "id": "ed21a863-218a-4b4d-b93c-d8043ecef2a7",
   "metadata": {},
   "outputs": [],
   "source": [
    "from langgraph.graph import StateGraph\n",
    "\n",
    "workflow = StateGraph(State)"
   ]
  },
  {
   "cell_type": "markdown",
   "id": "43f75da3-6784-4347-bbde-52ec30d1df68",
   "metadata": {},
   "source": [
    "## ノードの追加"
   ]
  },
  {
   "cell_type": "code",
   "execution_count": 16,
   "id": "b542036c-25f7-462f-8afe-01c197e596d8",
   "metadata": {},
   "outputs": [],
   "source": [
    "workflow.add_node(\"selection\", selection_node)\n",
    "workflow.add_node(\"answering\", answering_node)\n",
    "workflow.add_node(\"check\", check_node)"
   ]
  },
  {
   "cell_type": "markdown",
   "id": "bb753523-3ed8-442e-af40-e38cde7ec7bf",
   "metadata": {},
   "source": [
    "## エッジの定義"
   ]
  },
  {
   "cell_type": "code",
   "execution_count": 17,
   "id": "bb4e99eb-d87d-4a6e-ae65-b2c1efd0dd16",
   "metadata": {},
   "outputs": [],
   "source": [
    "# selectionノードから処理を開始\n",
    "workflow.set_entry_point(\"selection\")\n",
    "\n",
    "# selectionノードからansweringノードへ\n",
    "workflow.add_edge(\"selection\", \"answering\")\n",
    "\n",
    "# answeringノードからcheckノードへ\n",
    "workflow.add_edge(\"answering\", \"check\")"
   ]
  },
  {
   "cell_type": "markdown",
   "id": "79457715-df5c-4531-82cf-9e1732d5d73f",
   "metadata": {},
   "source": [
    "## 条件付きエッジの定義"
   ]
  },
  {
   "cell_type": "code",
   "execution_count": 18,
   "id": "333523ad-574d-44be-aa08-c9d6e25f8417",
   "metadata": {},
   "outputs": [],
   "source": [
    "from langgraph.graph import END\n",
    "\n",
    "# checkノードから次のノードへの遷移に条件付きエッジを定義\n",
    "# state.current_judgeの値がTrueならENDノードへ、Falseならselectionノードへ\n",
    "workflow.add_conditional_edges(\n",
    "    \"check\",\n",
    "    lambda state: state.current_judge,\n",
    "    {True: END, False: \"selection\"}\n",
    ")"
   ]
  },
  {
   "cell_type": "markdown",
   "id": "9e0c5768-2aa8-44f9-a755-5ff9055dc830",
   "metadata": {},
   "source": [
    "## グラフのコンパイル"
   ]
  },
  {
   "cell_type": "code",
   "execution_count": 19,
   "id": "7a09cf8d-dc0f-4eda-976a-a81f89bafbee",
   "metadata": {},
   "outputs": [],
   "source": [
    "compiled = workflow.compile()"
   ]
  },
  {
   "cell_type": "markdown",
   "id": "0d8db0fb-a44d-4460-8cf2-389fee0b85c5",
   "metadata": {},
   "source": [
    "## グラフの実行"
   ]
  },
  {
   "cell_type": "code",
   "execution_count": 20,
   "id": "36914a74-ecd3-4b74-972d-268dfecf0a8d",
   "metadata": {},
   "outputs": [],
   "source": [
    "initial_state = State(query=\"生成AIについて教えてください\")\n",
    "result = compiled.invoke(initial_state)"
   ]
  },
  {
   "cell_type": "code",
   "execution_count": 24,
   "id": "ebfa546b-84dd-44d3-8522-11c796bca3f0",
   "metadata": {},
   "outputs": [
    {
     "name": "stdout",
     "output_type": "stream",
     "text": [
      "{'current_judge': True,\n",
      " 'current_role': '生成AI製品エキスパート',\n",
      " 'judgement_reason': '回答は生成AIについての基本的な情報を網羅しており、自然言語処理、画像生成、音声合成などの具体例を挙げて説明しています。また、生成AIの応用分野や倫理的な課題についても触れており、バランスの取れた内容です。特に誤った情報や不正確な記述は見当たらず、全体として質の高い回答と判断できます。',\n",
      " 'messages': ['生成AI（生成的人工知能）とは、人工知能の一分野であり、新しいデータやコンテンツを生成する能力を持つモデルやシステムを指します。これには、テキスト、画像、音声、音楽、ビデオなど、さまざまな形式のコンテンツが含まれます。生成AIの代表的な技術には、以下のようなものがあります。\\n'\n",
      "              '\\n'\n",
      "              '1. **自然言語処理（NLP）モデル**: 例えば、GPT（Generative Pre-trained '\n",
      "              'Transformer）シリーズは、テキストの生成や翻訳、要約などに利用されます。これらのモデルは、大量のテキストデータを学習し、人間のように自然な文章を生成することができます。\\n'\n",
      "              '\\n'\n",
      "              '2. **画像生成モデル**: GAN（Generative Adversarial '\n",
      "              'Networks）やVAE（Variational '\n",
      "              'Autoencoders）などの技術を用いて、新しい画像を生成することができます。これにより、アート作品の創作や、現実には存在しない人物の顔を生成することが可能です。\\n'\n",
      "              '\\n'\n",
      "              '3. **音声合成**: '\n",
      "              'TTS（Text-to-Speech）技術を用いて、テキストから自然な音声を生成することができます。これにより、音声アシスタントやナレーションの自動生成が可能になります。\\n'\n",
      "              '\\n'\n",
      "              '生成AIは、クリエイティブなプロセスを支援し、効率を向上させるために多くの分野で活用されています。例えば、広告やマーケティング、ゲーム開発、映画制作、教育などでの応用が進んでいます。しかし、生成AIの利用には倫理的な課題も伴います。例えば、偽情報の生成や著作権の問題などが挙げられます。これらの課題に対処するためには、技術の透明性や責任ある利用が求められています。\\n'\n",
      "              '\\n'\n",
      "              '生成AIは急速に進化しており、今後も新しい応用や技術革新が期待されています。'],\n",
      " 'query': '生成AIについて教えてください'}\n"
     ]
    }
   ],
   "source": [
    "import pprint\n",
    "pprint.pprint(result)"
   ]
  },
  {
   "cell_type": "code",
   "execution_count": 22,
   "id": "2de6c277-4cd5-4d4c-aada-86c9dd47b25f",
   "metadata": {},
   "outputs": [
    {
     "name": "stdout",
     "output_type": "stream",
     "text": [
      "生成AI（生成的人工知能）とは、人工知能の一分野であり、新しいデータやコンテンツを生成する能力を持つモデルやシステムを指します。これには、テキスト、画像、音声、音楽、ビデオなど、さまざまな形式のコンテンツが含まれます。生成AIの代表的な技術には、以下のようなものがあります。\n",
      "\n",
      "1. **自然言語処理（NLP）モデル**: 例えば、GPT（Generative Pre-trained Transformer）シリーズは、テキストの生成や翻訳、要約などに利用されます。これらのモデルは、大量のテキストデータを学習し、人間のように自然な文章を生成することができます。\n",
      "\n",
      "2. **画像生成モデル**: GAN（Generative Adversarial Networks）やVAE（Variational Autoencoders）などの技術を用いて、新しい画像を生成することができます。これにより、アート作品の創作や、現実には存在しない人物の顔を生成することが可能です。\n",
      "\n",
      "3. **音声合成**: TTS（Text-to-Speech）技術を用いて、テキストから自然な音声を生成することができます。これにより、音声アシスタントやナレーションの自動生成が可能になります。\n",
      "\n",
      "生成AIは、クリエイティブなプロセスを支援し、効率を向上させるために多くの分野で活用されています。例えば、広告やマーケティング、ゲーム開発、映画制作、教育などでの応用が進んでいます。しかし、生成AIの利用には倫理的な課題も伴います。例えば、偽情報の生成や著作権の問題などが挙げられます。これらの課題に対処するためには、技術の透明性や責任ある利用が求められています。\n",
      "\n",
      "生成AIは急速に進化しており、今後も新しい応用や技術革新が期待されています。\n"
     ]
    }
   ],
   "source": [
    "print(result[\"messages\"][-1])"
   ]
  },
  {
   "cell_type": "markdown",
   "id": "7e830483-8a0b-4500-b838-a8ff289eea68",
   "metadata": {},
   "source": [
    "## グラフ構造の可視化"
   ]
  },
  {
   "cell_type": "code",
   "execution_count": 30,
   "id": "7a52ce32-d073-4fd4-9d49-cc3bc7f1a8f5",
   "metadata": {},
   "outputs": [
    {
     "data": {
      "image/png": "[encoded data removed]",
      "text/plain": [
       "<IPython.core.display.Image object>"
      ]
     },
     "metadata": {},
     "output_type": "display_data"
    }
   ],
   "source": [
    "from IPython.display import Image\n",
    "import nest_asyncio\n",
    "\n",
    "nest_asyncio.apply()  # Required for Jupyter Notebook to run async functions\n",
    "\n",
    "display(Image(compiled.get_graph().draw_mermaid_png()))"
   ]
  },
  {
   "cell_type": "markdown",
   "id": "6e270f5d-68db-4ad9-a3b9-58bdee7d4dd1",
   "metadata": {},
   "source": [
    "# 2. チェックポイントの動作確認"
   ]
  },
  {
   "cell_type": "code",
   "execution_count": 31,
   "id": "3df4f80e-d1f1-4b70-9139-83ac92db93f5",
   "metadata": {},
   "outputs": [],
   "source": [
    "import os \n",
    "\n",
    "os.environ[\"LANGCHAIN_TRACING_V2\"]=\"true\"\n",
    "os.environ[\"LANGCHAIN_ENDPOINT\"]=\"https://api.smith.langchain.com\"\n",
    "os.environ[\"LANGCHAIN_API_KEY\"]=\"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\"\n",
    "os.environ[\"LANGCHAIN_PROJECT\"]=\"AI-Agent\""
   ]
  },
  {
   "cell_type": "markdown",
   "id": "fcbb1635-7c1c-47a9-8bfd-fce78f0d4def",
   "metadata": {},
   "source": [
    "## ステートとノードの定義\n",
    "- query : ユーザー入力を受け付けるフィールド\n",
    "- messages : ユーザーとLLMとの会話履歴を保持するフィールド。SystemMessageやHumanMessageなどのBaseMessageをリスト化し、operator.addでそれらをどんどん追加していくイメージ。\n",
    "- add_message関数 : 受け取ったqueryをmessagesに追加する\n",
    "- llm_response関数 : messagesの内容を元にLLMに応答させ、結果をmessagesに追加する"
   ]
  },
  {
   "cell_type": "code",
   "execution_count": 33,
   "id": "d0f0efac-a7c3-436c-ad28-fec597878d55",
   "metadata": {},
   "outputs": [],
   "source": [
    "import operator\n",
    "from typing import Annotated, Any\n",
    "from langchain_core.messages import SystemMessage, HumanMessage, BaseMessage\n",
    "from langchain_openai import ChatOpenAI\n",
    "from pydantic import BaseModel, Field\n",
    "\n",
    "# ステートの定義\n",
    "class State(BaseModel):\n",
    "    query: str\n",
    "    messages: Annotated[list[BaseMessage], operator.add] = Field(default=[])\n",
    "\n",
    "# メッセージを追加するノード関数\n",
    "def add_message(state: State) -> dict[str, Any]:\n",
    "    additional_messages = []\n",
    "    if not state.messages:\n",
    "        additional_messages.append(\n",
    "            SystemMessage(content=\"あなたは最小限の応答をする対話エージェントです。\")\n",
    "        )\n",
    "    additional_messages.append(HumanMessage(content=state.query))\n",
    "    return {\"messages\": additional_messages}\n",
    "\n",
    "# LLMからの応答を追加するノード関数\n",
    "def llm_response(state: State) -> dict[str, Any]:\n",
    "    llm = ChatOpenAI(model=\"gpt-4o-mini\", temperature=0.5)\n",
    "    ai_message = llm.invoke(state.messages)\n",
    "    return {\"messages\": [ai_message]}"
   ]
  },
  {
   "cell_type": "markdown",
   "id": "2c6286af-ebd5-4c4d-9d32-49eaf4bf85ac",
   "metadata": {},
   "source": [
    "## チェックポイントの内容を表示する関数を定義\n",
    "- チェックポインタのインスタンスから最新のCheckpointTupleを取得し、その中のCheckpoint情報とMetadata情報を表示"
   ]
  },
  {
   "cell_type": "code",
   "execution_count": 35,
   "id": "f78885cc-1795-40ab-897c-2c7c9826d833",
   "metadata": {},
   "outputs": [],
   "source": [
    "from pprint import pprint\n",
    "from langchain_core.runnables import RunnableConfig\n",
    "from langgraph.checkpoint.base import BaseCheckpointSaver\n",
    "\n",
    "def print_checkpoint_dump(checkpoint: BaseCheckpointSaver, confing: RunnableConfig):\n",
    "    checkpoint_tuple = checkpoint.get_tuple(config)\n",
    "\n",
    "    print(\"チェックポイントデータ：\")\n",
    "    pprint(checkpoint_tuple.checkpoint)\n",
    "    print(\"\")\n",
    "    print(\"\\nメタデータ：\")\n",
    "    pprint(checkpoint_tuple.metadata)"
   ]
  },
  {
   "cell_type": "markdown",
   "id": "7c9b42a2-9774-46c6-a391-db69ae78a47e",
   "metadata": {},
   "source": [
    "## グラフの定義とコンパイル\n",
    "- グラフのコンパイル時にチェックポインタのインスタンスをオプションとして渡す"
   ]
  },
  {
   "cell_type": "code",
   "execution_count": 37,
   "id": "bc0e0262-b53a-4916-a89b-63d965b7cfd5",
   "metadata": {},
   "outputs": [],
   "source": [
    "from langgraph.graph import StateGraph, END\n",
    "from langgraph.checkpoint.memory import MemorySaver\n",
    "\n",
    "# グラフを設定\n",
    "graph = StateGraph(State)\n",
    "graph.add_node(\"add_message\", add_message)\n",
    "graph.add_node(\"llm_response\", llm_response)\n",
    "\n",
    "graph.set_entry_point(\"add_message\")\n",
    "graph.add_edge(\"add_message\", \"llm_response\")\n",
    "graph.add_edge(\"llm_response\", END)\n",
    "\n",
    "# チェックポインタを設定\n",
    "checkpointer = MemorySaver()\n",
    "\n",
    "# グラフをコンパイル\n",
    "compiled_graph = graph.compile(checkpointer=checkpointer)"
   ]
  },
  {
   "cell_type": "markdown",
   "id": "be8889f1-38ed-43ef-a768-8845b269788c",
   "metadata": {},
   "source": [
    "## グラフ構造の可視化"
   ]
  },
  {
   "cell_type": "code",
   "execution_count": 38,
   "id": "3d9f1656-2deb-49e3-bd61-37fef3d2f5d0",
   "metadata": {},
   "outputs": [
    {
     "data": {
      "image/png": "[encoded data removed]",
      "text/plain": [
       "<IPython.core.display.Image object>"
      ]
     },
     "metadata": {},
     "output_type": "display_data"
    }
   ],
   "source": [
    "from IPython.display import Image\n",
    "import nest_asyncio\n",
    "\n",
    "nest_asyncio.apply()  # Required for Jupyter Notebook to run async functions\n",
    "\n",
    "display(Image(compiled_graph.get_graph().draw_mermaid_png()))"
   ]
  },
  {
   "cell_type": "markdown",
   "id": "e63d74f3-3331-4274-90bf-d846e061641a",
   "metadata": {},
   "source": [
    "## 実行＆動作確認\n",
    "- \"thread_id\"でグラフ同士の実行セッションを区別する\n",
    "   - 例えば、AさんとBさんがそれぞれ実行したグラフのチェックポイントを別々に保持するための識別子"
   ]
  },
  {
   "cell_type": "code",
   "execution_count": 40,
   "id": "85bc69dd-02ec-4cef-8bf4-6ead4e3fa1b2",
   "metadata": {},
   "outputs": [
    {
     "data": {
      "text/plain": [
       "{'query': '私が好きなものはびっくりドンキーのハンバーグです。覚えておいてね。',\n",
       " 'messages': [SystemMessage(content='あなたは最小限の応答をする対話エージェントです。', additional_kwargs={}, response_metadata={}),\n",
       "  HumanMessage(content='私が好きなものはびっくりドンキーのハンバーグです。覚えておいてね。', additional_kwargs={}, response_metadata={}),\n",
       "  AIMessage(content='了解しました！びっくりドンキーのハンバーグですね。', additional_kwargs={'refusal': None}, response_metadata={'token_usage': {'completion_tokens': 18, 'prompt_tokens': 55, 'total_tokens': 73, 'completion_tokens_details': {'accepted_prediction_tokens': 0, 'audio_tokens': 0, 'reasoning_tokens': 0, 'rejected_prediction_tokens': 0}, 'prompt_tokens_details': {'audio_tokens': 0, 'cached_tokens': 0}}, 'model_name': 'gpt-4o-mini-2024-07-18', 'system_fingerprint': 'fp_0aa8d3e20b', 'finish_reason': 'stop', 'logprobs': None}, id='run-8c1d9054-61c3-46b6-a71e-bb9008a2dba9-0', usage_metadata={'input_tokens': 55, 'output_tokens': 18, 'total_tokens': 73})]}"
      ]
     },
     "execution_count": 40,
     "metadata": {},
     "output_type": "execute_result"
    }
   ],
   "source": [
    "config = {\"configurable\": {\"thread_id\": \"example-1\"}}\n",
    "user_query = State(query=\"私が好きなものはびっくりドンキーのハンバーグです。覚えておいてね。\")\n",
    "first_response = compiled_graph.invoke(user_query, config)\n",
    "first_response"
   ]
  },
  {
   "cell_type": "markdown",
   "id": "448df13e-c80e-4b90-9931-b1db63cca08a",
   "metadata": {},
   "source": [
    "### チェックポインタの情報の変化を確認\n",
    "- \"__ start __\"キーに呼び出しステートが設定される"
   ]
  },
  {
   "cell_type": "code",
   "execution_count": 41,
   "id": "be0615c3-d9bb-49c2-8057-bee5bd4f3cdc",
   "metadata": {},
   "outputs": [
    {
     "name": "stdout",
     "output_type": "stream",
     "text": [
      "CheckpointTuple(config={'configurable': {'thread_id': 'example-1', 'checkpoint_ns': '', 'checkpoint_id': '1efca1f0-96ba-6f20-8002-0088b00c242e'}}, checkpoint={'v': 1, 'ts': '2025-01-03T22:06:52.262377+00:00', 'id': '1efca1f0-96ba-6f20-8002-0088b00c242e', 'channel_values': {'query': '私が好きなものはびっくりドンキーのハンバーグです。覚えておいてね。', 'messages': [SystemMessage(content='あなたは最小限の応答をする対話エージェントです。', additional_kwargs={}, response_metadata={}), HumanMessage(content='私が好きなものはびっくりドンキーのハンバーグです。覚えておいてね。', additional_kwargs={}, response_metadata={}), AIMessage(content='了解しました！びっくりドンキーのハンバーグですね。', additional_kwargs={'refusal': None}, response_metadata={'token_usage': {'completion_tokens': 18, 'prompt_tokens': 55, 'total_tokens': 73, 'completion_tokens_details': {'accepted_prediction_tokens': 0, 'audio_tokens': 0, 'reasoning_tokens': 0, 'rejected_prediction_tokens': 0}, 'prompt_tokens_details': {'audio_tokens': 0, 'cached_tokens': 0}}, 'model_name': 'gpt-4o-mini-2024-07-18', 'system_fingerprint': 'fp_0aa8d3e20b', 'finish_reason': 'stop', 'logprobs': None}, id='run-8c1d9054-61c3-46b6-a71e-bb9008a2dba9-0', usage_metadata={'input_tokens': 55, 'output_tokens': 18, 'total_tokens': 73})], 'llm_response': 'llm_response'}, 'channel_versions': {'__start__': '00000000000000000000000000000002.0.3267112998707299', 'query': '00000000000000000000000000000002.0.4131122730745108', 'messages': '00000000000000000000000000000004.0.8299372501949166', 'start:add_message': '00000000000000000000000000000003.0.7642118066917466', 'add_message': '00000000000000000000000000000004.0.6934101828773207', 'llm_response': '00000000000000000000000000000004.0.7797651707752116'}, 'versions_seen': {'__input__': {}, '__start__': {'__start__': '00000000000000000000000000000001.0.16679892769084181'}, 'add_message': {'start:add_message': '00000000000000000000000000000002.0.8108968670162618'}, 'llm_response': {'add_message': '00000000000000000000000000000003.0.34828887905905415'}}, 'pending_sends': []}, metadata={'source': 'loop', 'writes': {'llm_response': {'messages': [AIMessage(content='了解しました！びっくりドンキーのハンバーグですね。', additional_kwargs={'refusal': None}, response_metadata={'token_usage': {'completion_tokens': 18, 'prompt_tokens': 55, 'total_tokens': 73, 'completion_tokens_details': {'accepted_prediction_tokens': 0, 'audio_tokens': 0, 'reasoning_tokens': 0, 'rejected_prediction_tokens': 0}, 'prompt_tokens_details': {'audio_tokens': 0, 'cached_tokens': 0}}, 'model_name': 'gpt-4o-mini-2024-07-18', 'system_fingerprint': 'fp_0aa8d3e20b', 'finish_reason': 'stop', 'logprobs': None}, id='run-8c1d9054-61c3-46b6-a71e-bb9008a2dba9-0', usage_metadata={'input_tokens': 55, 'output_tokens': 18, 'total_tokens': 73})]}}, 'step': 2, 'parents': {}}, parent_config={'configurable': {'thread_id': 'example-1', 'checkpoint_ns': '', 'checkpoint_id': '1efca1f0-87d3-6884-8001-d86e26b18a68'}}, pending_writes=[])\n",
      "CheckpointTuple(config={'configurable': {'thread_id': 'example-1', 'checkpoint_ns': '', 'checkpoint_id': '1efca1f0-87d3-6884-8001-d86e26b18a68'}}, checkpoint={'v': 1, 'ts': '2025-01-03T22:06:50.699584+00:00', 'id': '1efca1f0-87d3-6884-8001-d86e26b18a68', 'channel_values': {'query': '私が好きなものはびっくりドンキーのハンバーグです。覚えておいてね。', 'messages': [SystemMessage(content='あなたは最小限の応答をする対話エージェントです。', additional_kwargs={}, response_metadata={}), HumanMessage(content='私が好きなものはびっくりドンキーのハンバーグです。覚えておいてね。', additional_kwargs={}, response_metadata={})], 'add_message': 'add_message'}, 'channel_versions': {'__start__': '00000000000000000000000000000002.0.3267112998707299', 'query': '00000000000000000000000000000002.0.4131122730745108', 'messages': '00000000000000000000000000000003.0.26002469322153465', 'start:add_message': '00000000000000000000000000000003.0.7642118066917466', 'add_message': '00000000000000000000000000000003.0.34828887905905415'}, 'versions_seen': {'__input__': {}, '__start__': {'__start__': '00000000000000000000000000000001.0.16679892769084181'}, 'add_message': {'start:add_message': '00000000000000000000000000000002.0.8108968670162618'}}, 'pending_sends': []}, metadata={'source': 'loop', 'writes': {'add_message': {'messages': [SystemMessage(content='あなたは最小限の応答をする対話エージェントです。', additional_kwargs={}, response_metadata={}), HumanMessage(content='私が好きなものはびっくりドンキーのハンバーグです。覚えておいてね。', additional_kwargs={}, response_metadata={})]}}, 'step': 1, 'parents': {}}, parent_config={'configurable': {'thread_id': 'example-1', 'checkpoint_ns': '', 'checkpoint_id': '1efca1f0-87cc-685a-8000-82884774b504'}}, pending_writes=[])\n",
      "CheckpointTuple(config={'configurable': {'thread_id': 'example-1', 'checkpoint_ns': '', 'checkpoint_id': '1efca1f0-87cc-685a-8000-82884774b504'}}, checkpoint={'v': 1, 'ts': '2025-01-03T22:06:50.696713+00:00', 'id': '1efca1f0-87cc-685a-8000-82884774b504', 'channel_values': {'query': '私が好きなものはびっくりドンキーのハンバーグです。覚えておいてね。', 'messages': [], 'start:add_message': '__start__'}, 'channel_versions': {'__start__': '00000000000000000000000000000002.0.3267112998707299', 'query': '00000000000000000000000000000002.0.4131122730745108', 'messages': '00000000000000000000000000000002.0.5459199431408156', 'start:add_message': '00000000000000000000000000000002.0.8108968670162618'}, 'versions_seen': {'__input__': {}, '__start__': {'__start__': '00000000000000000000000000000001.0.16679892769084181'}}, 'pending_sends': []}, metadata={'source': 'loop', 'writes': None, 'step': 0, 'parents': {}}, parent_config={'configurable': {'thread_id': 'example-1', 'checkpoint_ns': '', 'checkpoint_id': '1efca1f0-87bb-62f6-bfff-e56d089ffd12'}}, pending_writes=[])\n",
      "CheckpointTuple(config={'configurable': {'thread_id': 'example-1', 'checkpoint_ns': '', 'checkpoint_id': '1efca1f0-87bb-62f6-bfff-e56d089ffd12'}}, checkpoint={'v': 1, 'ts': '2025-01-03T22:06:50.689611+00:00', 'id': '1efca1f0-87bb-62f6-bfff-e56d089ffd12', 'channel_values': {'__start__': State(query='私が好きなものはびっくりドンキーのハンバーグです。覚えておいてね。', messages=[])}, 'channel_versions': {'__start__': '00000000000000000000000000000001.0.16679892769084181'}, 'versions_seen': {'__input__': {}}, 'pending_sends': []}, metadata={'source': 'input', 'writes': {'__start__': State(query='私が好きなものはびっくりドンキーのハンバーグです。覚えておいてね。', messages=[])}, 'step': -1, 'parents': {}}, parent_config=None, pending_writes=[])\n"
     ]
    }
   ],
   "source": [
    "for checkpoint in checkpointer.list(config):\n",
    "    print(checkpoint)"
   ]
  },
  {
   "cell_type": "markdown",
   "id": "1d8b7ed7-b41b-4582-b94f-d8f790b29158",
   "metadata": {},
   "source": [
    "### 最新のチェックポイントの詳細データ"
   ]
  },
  {
   "cell_type": "code",
   "execution_count": 42,
   "id": "a5a4f1ab-6a19-4018-a1b0-f5d90ee89a04",
   "metadata": {},
   "outputs": [
    {
     "name": "stdout",
     "output_type": "stream",
     "text": [
      "チェックポイントデータ：\n",
      "{'channel_values': {'llm_response': 'llm_response',\n",
      "                    'messages': [SystemMessage(content='あなたは最小限の応答をする対話エージェントです。', additional_kwargs={}, response_metadata={}),\n",
      "                                 HumanMessage(content='私が好きなものはびっくりドンキーのハンバーグです。覚えておいてね。', additional_kwargs={}, response_metadata={}),\n",
      "                                 AIMessage(content='了解しました！びっくりドンキーのハンバーグですね。', additional_kwargs={'refusal': None}, response_metadata={'token_usage': {'completion_tokens': 18, 'prompt_tokens': 55, 'total_tokens': 73, 'completion_tokens_details': {'accepted_prediction_tokens': 0, 'audio_tokens': 0, 'reasoning_tokens': 0, 'rejected_prediction_tokens': 0}, 'prompt_tokens_details': {'audio_tokens': 0, 'cached_tokens': 0}}, 'model_name': 'gpt-4o-mini-2024-07-18', 'system_fingerprint': 'fp_0aa8d3e20b', 'finish_reason': 'stop', 'logprobs': None}, id='run-8c1d9054-61c3-46b6-a71e-bb9008a2dba9-0', usage_metadata={'input_tokens': 55, 'output_tokens': 18, 'total_tokens': 73})],\n",
      "                    'query': '私が好きなものはびっくりドンキーのハンバーグです。覚えておいてね。'},\n",
      " 'channel_versions': {'__start__': '00000000000000000000000000000002.0.3267112998707299',\n",
      "                      'add_message': '00000000000000000000000000000004.0.6934101828773207',\n",
      "                      'llm_response': '00000000000000000000000000000004.0.7797651707752116',\n",
      "                      'messages': '00000000000000000000000000000004.0.8299372501949166',\n",
      "                      'query': '00000000000000000000000000000002.0.4131122730745108',\n",
      "                      'start:add_message': '00000000000000000000000000000003.0.7642118066917466'},\n",
      " 'id': '1efca1f0-96ba-6f20-8002-0088b00c242e',\n",
      " 'pending_sends': [],\n",
      " 'ts': '2025-01-03T22:06:52.262377+00:00',\n",
      " 'v': 1,\n",
      " 'versions_seen': {'__input__': {},\n",
      "                   '__start__': {'__start__': '00000000000000000000000000000001.0.16679892769084181'},\n",
      "                   'add_message': {'start:add_message': '00000000000000000000000000000002.0.8108968670162618'},\n",
      "                   'llm_response': {'add_message': '00000000000000000000000000000003.0.34828887905905415'}}}\n",
      "\n",
      "\n",
      "メタデータ：\n",
      "{'parents': {},\n",
      " 'source': 'loop',\n",
      " 'step': 2,\n",
      " 'writes': {'llm_response': {'messages': [AIMessage(content='了解しました！びっくりドンキーのハンバーグですね。', additional_kwargs={'refusal': None}, response_metadata={'token_usage': {'completion_tokens': 18, 'prompt_tokens': 55, 'total_tokens': 73, 'completion_tokens_details': {'accepted_prediction_tokens': 0, 'audio_tokens': 0, 'reasoning_tokens': 0, 'rejected_prediction_tokens': 0}, 'prompt_tokens_details': {'audio_tokens': 0, 'cached_tokens': 0}}, 'model_name': 'gpt-4o-mini-2024-07-18', 'system_fingerprint': 'fp_0aa8d3e20b', 'finish_reason': 'stop', 'logprobs': None}, id='run-8c1d9054-61c3-46b6-a71e-bb9008a2dba9-0', usage_metadata={'input_tokens': 55, 'output_tokens': 18, 'total_tokens': 73})]}}}\n"
     ]
    }
   ],
   "source": [
    "print_checkpoint_dump(checkpointer, config)"
   ]
  },
  {
   "cell_type": "markdown",
   "id": "90a4d45e-8829-4770-99a5-49f2a76a3cf9",
   "metadata": {},
   "source": [
    "### 再度グラフを実行し、過去の記憶をたどる"
   ]
  },
  {
   "cell_type": "code",
   "execution_count": 43,
   "id": "8b2c45cf-f59b-4eb3-9361-6f0eb763c34e",
   "metadata": {},
   "outputs": [
    {
     "data": {
      "text/plain": [
       "{'query': '私の好物は何か覚えてる？',\n",
       " 'messages': [SystemMessage(content='あなたは最小限の応答をする対話エージェントです。', additional_kwargs={}, response_metadata={}),\n",
       "  HumanMessage(content='私が好きなものはびっくりドンキーのハンバーグです。覚えておいてね。', additional_kwargs={}, response_metadata={}),\n",
       "  AIMessage(content='了解しました！びっくりドンキーのハンバーグですね。', additional_kwargs={'refusal': None}, response_metadata={'token_usage': {'completion_tokens': 18, 'prompt_tokens': 55, 'total_tokens': 73, 'completion_tokens_details': {'accepted_prediction_tokens': 0, 'audio_tokens': 0, 'reasoning_tokens': 0, 'rejected_prediction_tokens': 0}, 'prompt_tokens_details': {'audio_tokens': 0, 'cached_tokens': 0}}, 'model_name': 'gpt-4o-mini-2024-07-18', 'system_fingerprint': 'fp_0aa8d3e20b', 'finish_reason': 'stop', 'logprobs': None}, id='run-8c1d9054-61c3-46b6-a71e-bb9008a2dba9-0', usage_metadata={'input_tokens': 55, 'output_tokens': 18, 'total_tokens': 73}),\n",
       "  HumanMessage(content='私の好物は何か覚えてる？', additional_kwargs={}, response_metadata={}),\n",
       "  AIMessage(content='はい、びっくりドンキーのハンバーグです。', additional_kwargs={'refusal': None}, response_metadata={'token_usage': {'completion_tokens': 17, 'prompt_tokens': 91, 'total_tokens': 108, 'completion_tokens_details': {'accepted_prediction_tokens': 0, 'audio_tokens': 0, 'reasoning_tokens': 0, 'rejected_prediction_tokens': 0}, 'prompt_tokens_details': {'audio_tokens': 0, 'cached_tokens': 0}}, 'model_name': 'gpt-4o-mini-2024-07-18', 'system_fingerprint': 'fp_0aa8d3e20b', 'finish_reason': 'stop', 'logprobs': None}, id='run-b67ed2c0-7e83-4444-b3a7-fcec973867c9-0', usage_metadata={'input_tokens': 91, 'output_tokens': 17, 'total_tokens': 108})]}"
      ]
     },
     "execution_count": 43,
     "metadata": {},
     "output_type": "execute_result"
    }
   ],
   "source": [
    "user_query = State(query=\"私の好物は何か覚えてる？\")\n",
    "second_response = compiled_graph.invoke(user_query, config)\n",
    "second_response"
   ]
  },
  {
   "cell_type": "markdown",
   "id": "c08bd166-859e-467e-b273-106d8fecbb3f",
   "metadata": {},
   "source": [
    "### 再度チェックポインタの情報の変化を確認\n",
    "- 2回目実行時の履歴も保存されていることがわかる"
   ]
  },
  {
   "cell_type": "code",
   "execution_count": 44,
   "id": "a6f722af-afab-4de2-83d5-0e10909aa541",
   "metadata": {},
   "outputs": [
    {
     "name": "stdout",
     "output_type": "stream",
     "text": [
      "CheckpointTuple(config={'configurable': {'thread_id': 'example-1', 'checkpoint_ns': '', 'checkpoint_id': '1efca206-4440-65f2-8006-8507dc1c4fc5'}}, checkpoint={'v': 1, 'ts': '2025-01-03T22:16:34.171851+00:00', 'id': '1efca206-4440-65f2-8006-8507dc1c4fc5', 'channel_values': {'query': '私の好物は何か覚えてる？', 'messages': [SystemMessage(content='あなたは最小限の応答をする対話エージェントです。', additional_kwargs={}, response_metadata={}), HumanMessage(content='私が好きなものはびっくりドンキーのハンバーグです。覚えておいてね。', additional_kwargs={}, response_metadata={}), AIMessage(content='了解しました！びっくりドンキーのハンバーグですね。', additional_kwargs={'refusal': None}, response_metadata={'token_usage': {'completion_tokens': 18, 'prompt_tokens': 55, 'total_tokens': 73, 'completion_tokens_details': {'accepted_prediction_tokens': 0, 'audio_tokens': 0, 'reasoning_tokens': 0, 'rejected_prediction_tokens': 0}, 'prompt_tokens_details': {'audio_tokens': 0, 'cached_tokens': 0}}, 'model_name': 'gpt-4o-mini-2024-07-18', 'system_fingerprint': 'fp_0aa8d3e20b', 'finish_reason': 'stop', 'logprobs': None}, id='run-8c1d9054-61c3-46b6-a71e-bb9008a2dba9-0', usage_metadata={'input_tokens': 55, 'output_tokens': 18, 'total_tokens': 73}), HumanMessage(content='私の好物は何か覚えてる？', additional_kwargs={}, response_metadata={}), AIMessage(content='はい、びっくりドンキーのハンバーグです。', additional_kwargs={'refusal': None}, response_metadata={'token_usage': {'completion_tokens': 17, 'prompt_tokens': 91, 'total_tokens': 108, 'completion_tokens_details': {'accepted_prediction_tokens': 0, 'audio_tokens': 0, 'reasoning_tokens': 0, 'rejected_prediction_tokens': 0}, 'prompt_tokens_details': {'audio_tokens': 0, 'cached_tokens': 0}}, 'model_name': 'gpt-4o-mini-2024-07-18', 'system_fingerprint': 'fp_0aa8d3e20b', 'finish_reason': 'stop', 'logprobs': None}, id='run-b67ed2c0-7e83-4444-b3a7-fcec973867c9-0', usage_metadata={'input_tokens': 91, 'output_tokens': 17, 'total_tokens': 108})], 'llm_response': 'llm_response'}, 'channel_versions': {'__start__': '00000000000000000000000000000006.0.7734260196328532', 'query': '00000000000000000000000000000006.0.3852751875180056', 'messages': '00000000000000000000000000000008.0.10725776230176076', 'start:add_message': '00000000000000000000000000000007.0.584638045524724', 'add_message': '00000000000000000000000000000008.0.06163060297284806', 'llm_response': '00000000000000000000000000000008.0.671427606068999'}, 'versions_seen': {'__input__': {}, '__start__': {'__start__': '00000000000000000000000000000005.0.7244235552516611'}, 'add_message': {'start:add_message': '00000000000000000000000000000006.0.9144827469669047'}, 'llm_response': {'add_message': '00000000000000000000000000000007.0.7891371376644543'}}, 'pending_sends': []}, metadata={'source': 'loop', 'writes': {'llm_response': {'messages': [AIMessage(content='はい、びっくりドンキーのハンバーグです。', additional_kwargs={'refusal': None}, response_metadata={'token_usage': {'completion_tokens': 17, 'prompt_tokens': 91, 'total_tokens': 108, 'completion_tokens_details': {'accepted_prediction_tokens': 0, 'audio_tokens': 0, 'reasoning_tokens': 0, 'rejected_prediction_tokens': 0}, 'prompt_tokens_details': {'audio_tokens': 0, 'cached_tokens': 0}}, 'model_name': 'gpt-4o-mini-2024-07-18', 'system_fingerprint': 'fp_0aa8d3e20b', 'finish_reason': 'stop', 'logprobs': None}, id='run-b67ed2c0-7e83-4444-b3a7-fcec973867c9-0', usage_metadata={'input_tokens': 91, 'output_tokens': 17, 'total_tokens': 108})]}}, 'step': 6, 'parents': {}}, parent_config={'configurable': {'thread_id': 'example-1', 'checkpoint_ns': '', 'checkpoint_id': '1efca206-379c-6e28-8005-9010e3d0dfb0'}}, pending_writes=[])\n",
      "CheckpointTuple(config={'configurable': {'thread_id': 'example-1', 'checkpoint_ns': '', 'checkpoint_id': '1efca206-379c-6e28-8005-9010e3d0dfb0'}}, checkpoint={'v': 1, 'ts': '2025-01-03T22:16:32.846596+00:00', 'id': '1efca206-379c-6e28-8005-9010e3d0dfb0', 'channel_values': {'query': '私の好物は何か覚えてる？', 'messages': [SystemMessage(content='あなたは最小限の応答をする対話エージェントです。', additional_kwargs={}, response_metadata={}), HumanMessage(content='私が好きなものはびっくりドンキーのハンバーグです。覚えておいてね。', additional_kwargs={}, response_metadata={}), AIMessage(content='了解しました！びっくりドンキーのハンバーグですね。', additional_kwargs={'refusal': None}, response_metadata={'token_usage': {'completion_tokens': 18, 'prompt_tokens': 55, 'total_tokens': 73, 'completion_tokens_details': {'accepted_prediction_tokens': 0, 'audio_tokens': 0, 'reasoning_tokens': 0, 'rejected_prediction_tokens': 0}, 'prompt_tokens_details': {'audio_tokens': 0, 'cached_tokens': 0}}, 'model_name': 'gpt-4o-mini-2024-07-18', 'system_fingerprint': 'fp_0aa8d3e20b', 'finish_reason': 'stop', 'logprobs': None}, id='run-8c1d9054-61c3-46b6-a71e-bb9008a2dba9-0', usage_metadata={'input_tokens': 55, 'output_tokens': 18, 'total_tokens': 73}), HumanMessage(content='私の好物は何か覚えてる？', additional_kwargs={}, response_metadata={})], 'add_message': 'add_message'}, 'channel_versions': {'__start__': '00000000000000000000000000000006.0.7734260196328532', 'query': '00000000000000000000000000000006.0.3852751875180056', 'messages': '00000000000000000000000000000007.0.1419341615172035', 'start:add_message': '00000000000000000000000000000007.0.584638045524724', 'add_message': '00000000000000000000000000000007.0.7891371376644543', 'llm_response': '00000000000000000000000000000005.0.5522062728488794'}, 'versions_seen': {'__input__': {}, '__start__': {'__start__': '00000000000000000000000000000005.0.7244235552516611'}, 'add_message': {'start:add_message': '00000000000000000000000000000006.0.9144827469669047'}, 'llm_response': {'add_message': '00000000000000000000000000000003.0.34828887905905415'}}, 'pending_sends': []}, metadata={'source': 'loop', 'writes': {'add_message': {'messages': [HumanMessage(content='私の好物は何か覚えてる？', additional_kwargs={}, response_metadata={})]}}, 'step': 5, 'parents': {}}, parent_config={'configurable': {'thread_id': 'example-1', 'checkpoint_ns': '', 'checkpoint_id': '1efca206-379a-64c2-8004-3b44f369c857'}}, pending_writes=[])\n",
      "CheckpointTuple(config={'configurable': {'thread_id': 'example-1', 'checkpoint_ns': '', 'checkpoint_id': '1efca206-379a-64c2-8004-3b44f369c857'}}, checkpoint={'v': 1, 'ts': '2025-01-03T22:16:32.845536+00:00', 'id': '1efca206-379a-64c2-8004-3b44f369c857', 'channel_values': {'query': '私の好物は何か覚えてる？', 'messages': [SystemMessage(content='あなたは最小限の応答をする対話エージェントです。', additional_kwargs={}, response_metadata={}), HumanMessage(content='私が好きなものはびっくりドンキーのハンバーグです。覚えておいてね。', additional_kwargs={}, response_metadata={}), AIMessage(content='了解しました！びっくりドンキーのハンバーグですね。', additional_kwargs={'refusal': None}, response_metadata={'token_usage': {'completion_tokens': 18, 'prompt_tokens': 55, 'total_tokens': 73, 'completion_tokens_details': {'accepted_prediction_tokens': 0, 'audio_tokens': 0, 'reasoning_tokens': 0, 'rejected_prediction_tokens': 0}, 'prompt_tokens_details': {'audio_tokens': 0, 'cached_tokens': 0}}, 'model_name': 'gpt-4o-mini-2024-07-18', 'system_fingerprint': 'fp_0aa8d3e20b', 'finish_reason': 'stop', 'logprobs': None}, id='run-8c1d9054-61c3-46b6-a71e-bb9008a2dba9-0', usage_metadata={'input_tokens': 55, 'output_tokens': 18, 'total_tokens': 73})], 'start:add_message': '__start__'}, 'channel_versions': {'__start__': '00000000000000000000000000000006.0.7734260196328532', 'query': '00000000000000000000000000000006.0.3852751875180056', 'messages': '00000000000000000000000000000006.0.7432466405751758', 'start:add_message': '00000000000000000000000000000006.0.9144827469669047', 'add_message': '00000000000000000000000000000004.0.6934101828773207', 'llm_response': '00000000000000000000000000000005.0.5522062728488794'}, 'versions_seen': {'__input__': {}, '__start__': {'__start__': '00000000000000000000000000000005.0.7244235552516611'}, 'add_message': {'start:add_message': '00000000000000000000000000000002.0.8108968670162618'}, 'llm_response': {'add_message': '00000000000000000000000000000003.0.34828887905905415'}}, 'pending_sends': []}, metadata={'source': 'loop', 'writes': None, 'step': 4, 'parents': {}}, parent_config={'configurable': {'thread_id': 'example-1', 'checkpoint_ns': '', 'checkpoint_id': '1efca206-378a-61e0-8003-197dbf4f64a9'}}, pending_writes=[])\n",
      "CheckpointTuple(config={'configurable': {'thread_id': 'example-1', 'checkpoint_ns': '', 'checkpoint_id': '1efca206-378a-61e0-8003-197dbf4f64a9'}}, checkpoint={'v': 1, 'ts': '2025-01-03T22:16:32.838908+00:00', 'id': '1efca206-378a-61e0-8003-197dbf4f64a9', 'channel_values': {'query': '私が好きなものはびっくりドンキーのハンバーグです。覚えておいてね。', 'messages': [SystemMessage(content='あなたは最小限の応答をする対話エージェントです。', additional_kwargs={}, response_metadata={}), HumanMessage(content='私が好きなものはびっくりドンキーのハンバーグです。覚えておいてね。', additional_kwargs={}, response_metadata={}), AIMessage(content='了解しました！びっくりドンキーのハンバーグですね。', additional_kwargs={'refusal': None}, response_metadata={'token_usage': {'completion_tokens': 18, 'prompt_tokens': 55, 'total_tokens': 73, 'completion_tokens_details': {'accepted_prediction_tokens': 0, 'audio_tokens': 0, 'reasoning_tokens': 0, 'rejected_prediction_tokens': 0}, 'prompt_tokens_details': {'audio_tokens': 0, 'cached_tokens': 0}}, 'model_name': 'gpt-4o-mini-2024-07-18', 'system_fingerprint': 'fp_0aa8d3e20b', 'finish_reason': 'stop', 'logprobs': None}, id='run-8c1d9054-61c3-46b6-a71e-bb9008a2dba9-0', usage_metadata={'input_tokens': 55, 'output_tokens': 18, 'total_tokens': 73})], '__start__': State(query='私の好物は何か覚えてる？', messages=[])}, 'channel_versions': {'__start__': '00000000000000000000000000000005.0.7244235552516611', 'query': '00000000000000000000000000000002.0.4131122730745108', 'messages': '00000000000000000000000000000004.0.8299372501949166', 'start:add_message': '00000000000000000000000000000003.0.7642118066917466', 'add_message': '00000000000000000000000000000004.0.6934101828773207', 'llm_response': '00000000000000000000000000000005.0.5522062728488794'}, 'versions_seen': {'__input__': {}, '__start__': {'__start__': '00000000000000000000000000000001.0.16679892769084181'}, 'add_message': {'start:add_message': '00000000000000000000000000000002.0.8108968670162618'}, 'llm_response': {'add_message': '00000000000000000000000000000003.0.34828887905905415'}}, 'pending_sends': []}, metadata={'source': 'input', 'writes': {'__start__': State(query='私の好物は何か覚えてる？', messages=[])}, 'step': 3, 'parents': {}}, parent_config={'configurable': {'thread_id': 'example-1', 'checkpoint_ns': '', 'checkpoint_id': '1efca1f0-96ba-6f20-8002-0088b00c242e'}}, pending_writes=[])\n",
      "CheckpointTuple(config={'configurable': {'thread_id': 'example-1', 'checkpoint_ns': '', 'checkpoint_id': '1efca1f0-96ba-6f20-8002-0088b00c242e'}}, checkpoint={'v': 1, 'ts': '2025-01-03T22:06:52.262377+00:00', 'id': '1efca1f0-96ba-6f20-8002-0088b00c242e', 'channel_values': {'query': '私が好きなものはびっくりドンキーのハンバーグです。覚えておいてね。', 'messages': [SystemMessage(content='あなたは最小限の応答をする対話エージェントです。', additional_kwargs={}, response_metadata={}), HumanMessage(content='私が好きなものはびっくりドンキーのハンバーグです。覚えておいてね。', additional_kwargs={}, response_metadata={}), AIMessage(content='了解しました！びっくりドンキーのハンバーグですね。', additional_kwargs={'refusal': None}, response_metadata={'token_usage': {'completion_tokens': 18, 'prompt_tokens': 55, 'total_tokens': 73, 'completion_tokens_details': {'accepted_prediction_tokens': 0, 'audio_tokens': 0, 'reasoning_tokens': 0, 'rejected_prediction_tokens': 0}, 'prompt_tokens_details': {'audio_tokens': 0, 'cached_tokens': 0}}, 'model_name': 'gpt-4o-mini-2024-07-18', 'system_fingerprint': 'fp_0aa8d3e20b', 'finish_reason': 'stop', 'logprobs': None}, id='run-8c1d9054-61c3-46b6-a71e-bb9008a2dba9-0', usage_metadata={'input_tokens': 55, 'output_tokens': 18, 'total_tokens': 73})], 'llm_response': 'llm_response'}, 'channel_versions': {'__start__': '00000000000000000000000000000002.0.3267112998707299', 'query': '00000000000000000000000000000002.0.4131122730745108', 'messages': '00000000000000000000000000000004.0.8299372501949166', 'start:add_message': '00000000000000000000000000000003.0.7642118066917466', 'add_message': '00000000000000000000000000000004.0.6934101828773207', 'llm_response': '00000000000000000000000000000004.0.7797651707752116'}, 'versions_seen': {'__input__': {}, '__start__': {'__start__': '00000000000000000000000000000001.0.16679892769084181'}, 'add_message': {'start:add_message': '00000000000000000000000000000002.0.8108968670162618'}, 'llm_response': {'add_message': '00000000000000000000000000000003.0.34828887905905415'}}, 'pending_sends': []}, metadata={'source': 'loop', 'writes': {'llm_response': {'messages': [AIMessage(content='了解しました！びっくりドンキーのハンバーグですね。', additional_kwargs={'refusal': None}, response_metadata={'token_usage': {'completion_tokens': 18, 'prompt_tokens': 55, 'total_tokens': 73, 'completion_tokens_details': {'accepted_prediction_tokens': 0, 'audio_tokens': 0, 'reasoning_tokens': 0, 'rejected_prediction_tokens': 0}, 'prompt_tokens_details': {'audio_tokens': 0, 'cached_tokens': 0}}, 'model_name': 'gpt-4o-mini-2024-07-18', 'system_fingerprint': 'fp_0aa8d3e20b', 'finish_reason': 'stop', 'logprobs': None}, id='run-8c1d9054-61c3-46b6-a71e-bb9008a2dba9-0', usage_metadata={'input_tokens': 55, 'output_tokens': 18, 'total_tokens': 73})]}}, 'step': 2, 'parents': {}}, parent_config={'configurable': {'thread_id': 'example-1', 'checkpoint_ns': '', 'checkpoint_id': '1efca1f0-87d3-6884-8001-d86e26b18a68'}}, pending_writes=[])\n",
      "CheckpointTuple(config={'configurable': {'thread_id': 'example-1', 'checkpoint_ns': '', 'checkpoint_id': '1efca1f0-87d3-6884-8001-d86e26b18a68'}}, checkpoint={'v': 1, 'ts': '2025-01-03T22:06:50.699584+00:00', 'id': '1efca1f0-87d3-6884-8001-d86e26b18a68', 'channel_values': {'query': '私が好きなものはびっくりドンキーのハンバーグです。覚えておいてね。', 'messages': [SystemMessage(content='あなたは最小限の応答をする対話エージェントです。', additional_kwargs={}, response_metadata={}), HumanMessage(content='私が好きなものはびっくりドンキーのハンバーグです。覚えておいてね。', additional_kwargs={}, response_metadata={})], 'add_message': 'add_message'}, 'channel_versions': {'__start__': '00000000000000000000000000000002.0.3267112998707299', 'query': '00000000000000000000000000000002.0.4131122730745108', 'messages': '00000000000000000000000000000003.0.26002469322153465', 'start:add_message': '00000000000000000000000000000003.0.7642118066917466', 'add_message': '00000000000000000000000000000003.0.34828887905905415'}, 'versions_seen': {'__input__': {}, '__start__': {'__start__': '00000000000000000000000000000001.0.16679892769084181'}, 'add_message': {'start:add_message': '00000000000000000000000000000002.0.8108968670162618'}}, 'pending_sends': []}, metadata={'source': 'loop', 'writes': {'add_message': {'messages': [SystemMessage(content='あなたは最小限の応答をする対話エージェントです。', additional_kwargs={}, response_metadata={}), HumanMessage(content='私が好きなものはびっくりドンキーのハンバーグです。覚えておいてね。', additional_kwargs={}, response_metadata={})]}}, 'step': 1, 'parents': {}}, parent_config={'configurable': {'thread_id': 'example-1', 'checkpoint_ns': '', 'checkpoint_id': '1efca1f0-87cc-685a-8000-82884774b504'}}, pending_writes=[])\n",
      "CheckpointTuple(config={'configurable': {'thread_id': 'example-1', 'checkpoint_ns': '', 'checkpoint_id': '1efca1f0-87cc-685a-8000-82884774b504'}}, checkpoint={'v': 1, 'ts': '2025-01-03T22:06:50.696713+00:00', 'id': '1efca1f0-87cc-685a-8000-82884774b504', 'channel_values': {'query': '私が好きなものはびっくりドンキーのハンバーグです。覚えておいてね。', 'messages': [], 'start:add_message': '__start__'}, 'channel_versions': {'__start__': '00000000000000000000000000000002.0.3267112998707299', 'query': '00000000000000000000000000000002.0.4131122730745108', 'messages': '00000000000000000000000000000002.0.5459199431408156', 'start:add_message': '00000000000000000000000000000002.0.8108968670162618'}, 'versions_seen': {'__input__': {}, '__start__': {'__start__': '00000000000000000000000000000001.0.16679892769084181'}}, 'pending_sends': []}, metadata={'source': 'loop', 'writes': None, 'step': 0, 'parents': {}}, parent_config={'configurable': {'thread_id': 'example-1', 'checkpoint_ns': '', 'checkpoint_id': '1efca1f0-87bb-62f6-bfff-e56d089ffd12'}}, pending_writes=[])\n",
      "CheckpointTuple(config={'configurable': {'thread_id': 'example-1', 'checkpoint_ns': '', 'checkpoint_id': '1efca1f0-87bb-62f6-bfff-e56d089ffd12'}}, checkpoint={'v': 1, 'ts': '2025-01-03T22:06:50.689611+00:00', 'id': '1efca1f0-87bb-62f6-bfff-e56d089ffd12', 'channel_values': {'__start__': State(query='私が好きなものはびっくりドンキーのハンバーグです。覚えておいてね。', messages=[])}, 'channel_versions': {'__start__': '00000000000000000000000000000001.0.16679892769084181'}, 'versions_seen': {'__input__': {}}, 'pending_sends': []}, metadata={'source': 'input', 'writes': {'__start__': State(query='私が好きなものはびっくりドンキーのハンバーグです。覚えておいてね。', messages=[])}, 'step': -1, 'parents': {}}, parent_config=None, pending_writes=[])\n"
     ]
    }
   ],
   "source": [
    "for checkpoint in checkpointer.list(config):\n",
    "    print(checkpoint)"
   ]
  },
  {
   "cell_type": "code",
   "execution_count": 45,
   "id": "67d19270-977f-4ce2-ae27-c007342cb8ff",
   "metadata": {},
   "outputs": [
    {
     "name": "stdout",
     "output_type": "stream",
     "text": [
      "チェックポイントデータ：\n",
      "{'channel_values': {'llm_response': 'llm_response',\n",
      "                    'messages': [SystemMessage(content='あなたは最小限の応答をする対話エージェントです。', additional_kwargs={}, response_metadata={}),\n",
      "                                 HumanMessage(content='私が好きなものはびっくりドンキーのハンバーグです。覚えておいてね。', additional_kwargs={}, response_metadata={}),\n",
      "                                 AIMessage(content='了解しました！びっくりドンキーのハンバーグですね。', additional_kwargs={'refusal': None}, response_metadata={'token_usage': {'completion_tokens': 18, 'prompt_tokens': 55, 'total_tokens': 73, 'completion_tokens_details': {'accepted_prediction_tokens': 0, 'audio_tokens': 0, 'reasoning_tokens': 0, 'rejected_prediction_tokens': 0}, 'prompt_tokens_details': {'audio_tokens': 0, 'cached_tokens': 0}}, 'model_name': 'gpt-4o-mini-2024-07-18', 'system_fingerprint': 'fp_0aa8d3e20b', 'finish_reason': 'stop', 'logprobs': None}, id='run-8c1d9054-61c3-46b6-a71e-bb9008a2dba9-0', usage_metadata={'input_tokens': 55, 'output_tokens': 18, 'total_tokens': 73}),\n",
      "                                 HumanMessage(content='私の好物は何か覚えてる？', additional_kwargs={}, response_metadata={}),\n",
      "                                 AIMessage(content='はい、びっくりドンキーのハンバーグです。', additional_kwargs={'refusal': None}, response_metadata={'token_usage': {'completion_tokens': 17, 'prompt_tokens': 91, 'total_tokens': 108, 'completion_tokens_details': {'accepted_prediction_tokens': 0, 'audio_tokens': 0, 'reasoning_tokens': 0, 'rejected_prediction_tokens': 0}, 'prompt_tokens_details': {'audio_tokens': 0, 'cached_tokens': 0}}, 'model_name': 'gpt-4o-mini-2024-07-18', 'system_fingerprint': 'fp_0aa8d3e20b', 'finish_reason': 'stop', 'logprobs': None}, id='run-b67ed2c0-7e83-4444-b3a7-fcec973867c9-0', usage_metadata={'input_tokens': 91, 'output_tokens': 17, 'total_tokens': 108})],\n",
      "                    'query': '私の好物は何か覚えてる？'},\n",
      " 'channel_versions': {'__start__': '00000000000000000000000000000006.0.7734260196328532',\n",
      "                      'add_message': '00000000000000000000000000000008.0.06163060297284806',\n",
      "                      'llm_response': '00000000000000000000000000000008.0.671427606068999',\n",
      "                      'messages': '00000000000000000000000000000008.0.10725776230176076',\n",
      "                      'query': '00000000000000000000000000000006.0.3852751875180056',\n",
      "                      'start:add_message': '00000000000000000000000000000007.0.584638045524724'},\n",
      " 'id': '1efca206-4440-65f2-8006-8507dc1c4fc5',\n",
      " 'pending_sends': [],\n",
      " 'ts': '2025-01-03T22:16:34.171851+00:00',\n",
      " 'v': 1,\n",
      " 'versions_seen': {'__input__': {},\n",
      "                   '__start__': {'__start__': '00000000000000000000000000000005.0.7244235552516611'},\n",
      "                   'add_message': {'start:add_message': '00000000000000000000000000000006.0.9144827469669047'},\n",
      "                   'llm_response': {'add_message': '00000000000000000000000000000007.0.7891371376644543'}}}\n",
      "\n",
      "\n",
      "メタデータ：\n",
      "{'parents': {},\n",
      " 'source': 'loop',\n",
      " 'step': 6,\n",
      " 'writes': {'llm_response': {'messages': [AIMessage(content='はい、びっくりドンキーのハンバーグです。', additional_kwargs={'refusal': None}, response_metadata={'token_usage': {'completion_tokens': 17, 'prompt_tokens': 91, 'total_tokens': 108, 'completion_tokens_details': {'accepted_prediction_tokens': 0, 'audio_tokens': 0, 'reasoning_tokens': 0, 'rejected_prediction_tokens': 0}, 'prompt_tokens_details': {'audio_tokens': 0, 'cached_tokens': 0}}, 'model_name': 'gpt-4o-mini-2024-07-18', 'system_fingerprint': 'fp_0aa8d3e20b', 'finish_reason': 'stop', 'logprobs': None}, id='run-b67ed2c0-7e83-4444-b3a7-fcec973867c9-0', usage_metadata={'input_tokens': 91, 'output_tokens': 17, 'total_tokens': 108})]}}}\n"
     ]
    }
   ],
   "source": [
    "print_checkpoint_dump(checkpointer, config)"
   ]
  },
  {
   "cell_type": "markdown",
   "id": "99d8dc70-cc25-48a2-bf5c-13d6aac2dcf6",
   "metadata": {},
   "source": [
    "### thread_idを変えて実行してみる\n",
    "- \"thread_id\"が違うため、これまでの会話の履歴がない"
   ]
  },
  {
   "cell_type": "code",
   "execution_count": 46,
   "id": "f5fea5c3-9817-4eb9-91d5-cf5e3d9fda2d",
   "metadata": {},
   "outputs": [
    {
     "data": {
      "text/plain": [
       "{'query': '私の好物は何？',\n",
       " 'messages': [SystemMessage(content='あなたは最小限の応答をする対話エージェントです。', additional_kwargs={}, response_metadata={}),\n",
       "  HumanMessage(content='私の好物は何？', additional_kwargs={}, response_metadata={}),\n",
       "  AIMessage(content='わかりません。あなたの好物は何ですか？', additional_kwargs={'refusal': None}, response_metadata={'token_usage': {'completion_tokens': 15, 'prompt_tokens': 36, 'total_tokens': 51, 'completion_tokens_details': {'accepted_prediction_tokens': 0, 'audio_tokens': 0, 'reasoning_tokens': 0, 'rejected_prediction_tokens': 0}, 'prompt_tokens_details': {'audio_tokens': 0, 'cached_tokens': 0}}, 'model_name': 'gpt-4o-mini-2024-07-18', 'system_fingerprint': 'fp_0aa8d3e20b', 'finish_reason': 'stop', 'logprobs': None}, id='run-fd3d0bc5-1f5f-4785-873b-bc1f8ad3e0be-0', usage_metadata={'input_tokens': 36, 'output_tokens': 15, 'total_tokens': 51})]}"
      ]
     },
     "execution_count": 46,
     "metadata": {},
     "output_type": "execute_result"
    }
   ],
   "source": [
    "config = {\"configurable\": {\"thread_id\": \"example-2\"}}\n",
    "user_query = State(query=\"私の好物は何？\")\n",
    "other_thread_response = compiled_graph.invoke(user_query, config)\n",
    "other_thread_response"
   ]
  },
  {
   "cell_type": "code",
   "execution_count": null,
   "id": "99216111-d58b-421a-9955-987cf026a054",
   "metadata": {},
   "outputs": [],
   "source": []
  }
 ],
 "metadata": {
  "kernelspec": {
   "display_name": "Python 3 (ipykernel)",
   "language": "python",
   "name": "python3"
  },
  "language_info": {
   "codemirror_mode": {
    "name": "ipython",
    "version": 3
   },
   "file_extension": ".py",
   "mimetype": "text/x-python",
   "name": "python",
   "nbconvert_exporter": "python",
   "pygments_lexer": "ipython3",
   "version": "3.11.5"
  }
 },
 "nbformat": 4,
 "nbformat_minor": 5
}
