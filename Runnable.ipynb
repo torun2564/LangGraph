{
 "cells": [
  {
   "cell_type": "markdown",
   "id": "99348e8c-8930-4f04-aefb-2651909cd637",
   "metadata": {},
   "source": [
    "# RunnableParallel"
   ]
  },
  {
   "cell_type": "code",
   "execution_count": 3,
   "id": "0ab31777-fb8b-4258-b99d-2be5fa3d607e",
   "metadata": {},
   "outputs": [
    {
     "name": "stdout",
     "output_type": "stream",
     "text": [
      "電気自動車の普及に関する意見は、楽観的な側面と悲観的な側面の両方があります。楽観的意見では、電気自動車の普及が環境への良い影響をもたらし、持続可能な未来への第一歩であると評価されています。技術の進化により、バッテリーの性能が向上し、充電の利便性が増すことで、生活がより快適になるとの期待も寄せられています。\n",
      "\n",
      "一方で、悲観的意見では、電気自動車の普及にはいくつかの課題があると指摘されています。充電インフラが不十分な地域が多く、長距離移動に関する問題が残ることや、バッテリーの製造や廃棄時の環境負荷が懸念されています。これにより、期待されるほどの持続可能性が実現できない可能性も指摘されています。\n",
      "\n",
      "まとめると、電気自動車の普及には環境への貢献や技術進化といった明るい側面がある一方で、インフラの未整備や環境への負荷といった課題も存在し、今後の展望には慎重な視点が求められています。\n"
     ]
    }
   ],
   "source": [
    "from langchain_core.output_parsers import StrOutputParser\n",
    "from langchain_core.prompts import ChatPromptTemplate\n",
    "from langchain_openai import ChatOpenAI\n",
    "from langchain_core.runnables import RunnableParallel\n",
    "\n",
    "model = ChatOpenAI(model=\"gpt-4o-mini\")\n",
    "output_parser = StrOutputParser()\n",
    "\n",
    "\n",
    "# プロンプト1\n",
    "prompt_1 = ChatPromptTemplate.from_messages(\n",
    "    {\n",
    "        (\"system\", \"あなたは楽観主義者です。ユーザーの入力に対して楽観的な意見をください\"),\n",
    "        (\"user\", \"{topic}\"),\n",
    "    }\n",
    ")\n",
    "\n",
    "# プロンプト2\n",
    "prompt_2 = ChatPromptTemplate.from_messages(\n",
    "    {\n",
    "        (\"system\", \"あなたは悲観主義者です。ユーザーの入力に対して悲観的な意見をください\"),\n",
    "        (\"user\", \"{topic}\"),\n",
    "    }\n",
    ")\n",
    "\n",
    "# 複数意見をまとめるプロンプト\n",
    "prompt_synthesize = ChatPromptTemplate.from_messages(\n",
    "    {\n",
    "        (\"system\", \"あなたは客観的AIです。2つの意見をまとめてください\"),\n",
    "        (\"user\", \"楽観的意見：{optimistic_opinion}\\n悲観的意見：{pessmistic_opinion}\"),\n",
    "    }\n",
    ")\n",
    "\n",
    "# それぞれの意見を述べるためのChain\n",
    "chain_1 = prompt_1 | model | output_parser\n",
    "chain_2 = prompt_2 | model | output_parser\n",
    "\n",
    "# 最後に全体をまとめるChain\n",
    "synthesize_chain = (\n",
    "    RunnableParallel(\n",
    "        {\n",
    "            \"optimistic_opinion\": chain_1,\n",
    "            \"pessmistic_opinion\": chain_2,\n",
    "        }\n",
    "    )\n",
    "    | prompt_synthesize\n",
    "    | model\n",
    "    | output_parser\n",
    ")\n",
    "\n",
    "output = synthesize_chain.invoke({\"topic\": \"電気自動車の普及について\"})\n",
    "print(output)\n"
   ]
  },
  {
   "cell_type": "code",
   "execution_count": 4,
   "id": "e032bfb4-8b75-4881-8b04-9b3a84940ebc",
   "metadata": {},
   "outputs": [
    {
     "name": "stdout",
     "output_type": "stream",
     "text": [
      "電気自動車の普及について、楽観的な意見と悲観的な意見があります。楽観的な見方では、電気自動車が環境に優しい選択肢として人気を集めており、技術の進歩や充電インフラの拡充により、より多くの人々が利用することで持続可能な未来が期待できるとされています。一方、悲観的な見方では、充電インフラの整備が不十分であり、長距離移動に不便を感じる人が多いことや、バッテリーの製造が環境に与える負荷、リサイクル問題などの課題が残っていると指摘されています。また、電気自動車の普及が電力需要を増加させ、化石燃料への依存が続く可能性も懸念されています。\n",
      "\n",
      "これらをまとめると、電気自動車の普及には明るい展望がある一方で、解決すべき多くの課題も存在しており、今後の発展には慎重な取り組みが必要であるということが言えます。\n"
     ]
    }
   ],
   "source": [
    "# RunnableParallelは無くても自動変換される\n",
    "synthesize_chain = (\n",
    "    {\n",
    "        \"optimistic_opinion\": chain_1,\n",
    "        \"pessmistic_opinion\": chain_2,\n",
    "    }\n",
    "    | prompt_synthesize\n",
    "    | model\n",
    "    | output_parser\n",
    ")\n",
    "\n",
    "output = synthesize_chain.invoke({\"topic\": \"電気自動車の普及について\"})\n",
    "print(output)"
   ]
  },
  {
   "cell_type": "markdown",
   "id": "8423e37a-1a2a-43be-b338-950a50bf1da0",
   "metadata": {},
   "source": [
    "# RunnablePassthrough"
   ]
  },
  {
   "cell_type": "code",
   "execution_count": 1,
   "id": "22f23303-a11a-4972-8b33-3fffec6a984f",
   "metadata": {},
   "outputs": [],
   "source": [
    "import os\n",
    "from langchain_core.prompts import ChatPromptTemplate\n",
    "from langchain_openai import ChatOpenAI\n",
    "from langchain_community.retrievers import TavilySearchAPIRetriever\n",
    "\n",
    "os.environ[\"TAVILY_API_KEY\"] = \"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\"\n",
    "\n",
    "prompt = ChatPromptTemplate.from_template('''\\\n",
    "                                          以下の文脈だけを踏まえて質問に回答してください。\n",
    "\n",
    "                                          文脈：\"\"\"\n",
    "                                          {context}\n",
    "                                          \"\"\"\n",
    "\n",
    "                                          質問： {question}\n",
    "                                          ''')\n",
    "model = ChatOpenAI(model_name=\"gpt-4o-mini\", temperature=0)\n",
    "retriever = TavilySearchAPIRetriever(k=3)  # 検索結果を３件出力"
   ]
  },
  {
   "cell_type": "code",
   "execution_count": 2,
   "id": "d908eba9-db2c-4c2a-97ee-088453390afc",
   "metadata": {},
   "outputs": [
    {
     "name": "stdout",
     "output_type": "stream",
     "text": [
      "今日の千葉県船橋市の天気は晴れです。\n"
     ]
    }
   ],
   "source": [
    "from langchain_core.runnables import RunnablePassthrough\n",
    "from langchain_core.output_parsers import StrOutputParser\n",
    "\n",
    "chain = (\n",
    "    {\"context\" : retriever, \"question\" : RunnablePassthrough()}\n",
    "    | prompt\n",
    "    | model\n",
    "    | StrOutputParser()\n",
    ")\n",
    "\n",
    "output = chain.invoke(\"今日の千葉県船橋市の天気は?\")\n",
    "print(output)"
   ]
  },
  {
   "cell_type": "markdown",
   "id": "ed6425dc-35cc-49bc-a1ac-3ee81665dd80",
   "metadata": {},
   "source": [
    "## assignメソッド\n",
    "- Chain全体を出力をできる"
   ]
  },
  {
   "cell_type": "code",
   "execution_count": 3,
   "id": "4209d188-3f09-4e56-8271-bb9c0b17ed64",
   "metadata": {},
   "outputs": [
    {
     "name": "stdout",
     "output_type": "stream",
     "text": [
      "{'context': [Document(metadata={'title': '船橋市の今日明日の天気 - 日本気象協会 tenki.jp', 'source': 'https://tenki.jp/forecast/3/15/4510/12204/', 'score': 0.9158166, 'images': []}, page_content='船橋市の今日明日の天気 - 日本気象協会 tenki.jp tenki.jp 船橋市---/---ｘ直前に見た情報が PM2.5分布予測 雷(予報) 雨雲レーダー(過去) アメダス 雷(実況) 洗濯 服装 星空 紫外線 気象予報士のポイント解説 PM2.5分布予測 船橋市  今日\\xa011月20日(水)[大安] 9℃ 6℃ | 風 | 北の風 | | 波 | 0.5m | 明日\\xa011月21日(木)[赤口] 14℃ 8℃ | 風 | 北の風後北西の風 | | 波 | 0.5m | 5.9℃(前日差:-3.2℃) 北1.3m/s 紫外線  弱い 対策は特に不要 洗濯  部屋干し推奨 乾燥機を使わないと乾かないよ 星空  0 今夜は、諦めたほうがよさそう 紫外線  弱い 対策は特に不要 洗濯  部屋干し推奨 乾燥機を使わないと乾かないよ 紫外線  弱い 対策は特に不要 洗濯  部屋干し推奨 室内に干すか、乾燥機がお勧め アメダス(気温) 日付11月22日(金)11月23日(土)11月24日(日)11月25日(月)11月26日(火)11月27日(水)11月28日(木)11月29日(金)11月30日(土)天気晴晴晴晴晴時々曇雨時々曇晴時々曇晴晴時々雨気温(℃)187149146155156191219141710189降水確率10%20%10%10%40%80%40%40%60% 気象予報士のポイント解説(日直予報士) 北西部(千葉)各地の天気 北西部(千葉) 船橋市 アメダス PM2.5 1位養老渓谷千葉県 青葉 2位成田山新勝寺千葉県 色づき始め 3位亀山湖千葉県 色づき始め 4位本土寺千葉県 色づき始め 5位三島湖千葉県 青葉 PM2.5 雷(予報) 雨雲レーダー(過去) アメダス 雷(実況) 洗濯 服装 星空 紫外線 tenki.jp公式SNS tenki.jp公式アプリ tenki.jp tenki.jp 登山天気 tenki.jpトップ PM2.5分布予測 雷(予報) 雨雲(過去) 雷(実況) 洗濯 服装 星空 紫外線 花粉飛散情報(1～5月頃) 桜開花情報(2～5月頃) GWの天気(4～5月頃) 梅雨入り・明け(5～7月頃) 熱中症情報(4～9月頃) 紅葉見頃情報(10～11月頃) ヒートショック(10～3月頃) スキー積雪情報(11～5月頃) 初日の出(12～1月頃)'), Document(metadata={'title': '千葉県船橋市の天気予報(1時間・今日明日・2週間) - ウェザーニュース', 'source': 'https://weathernews.jp/onebox/tenki/chiba/12204/', 'score': 0.9134376, 'images': []}, page_content='最高12℃\\n最低2℃\\n午前10%\\n午後10%\\nサクラのつぼみも喜ぶ陽気\\n明日はスッキリと晴れて穏やかな陽気。空気はヒンヤリしても、日向では温もりを感じられます。桜の生長も進みそうです。花粉対策を万全に行ってください。\\n5分ごと\\n1時間ごと\\n時\\n分\\n天気\\n19時\\n・\\n星はっきり\\n20時\\n00\\n星はっきり\\n・\\n星はっきり\\n10\\n星はっきり\\n・\\n星はっきり\\n20\\n星はっきり\\n・\\n星はっきり\\n30\\n星はっきり\\n・\\n星はっきり\\n40\\n星はっきり\\n・\\n星はっきり\\n50\\n星はっきり\\n日\\n時\\n天気\\n降水\\n気温\\n風\\n9日(土)\\n20\\n0\\n6℃\\n3m\\n21\\n0\\n5℃\\n3m\\n22\\n0\\n4℃\\n3m\\n23\\n0\\n4℃\\n4m\\n10日(日)\\n0\\n0\\n4℃\\n3m\\n1\\n0\\n4℃\\n3m\\n2\\n0\\n4℃\\n2m\\n3\\n0\\n3℃\\n2m\\n4\\n0\\n3℃\\n2m\\n5\\n0\\n2℃\\n2m\\n6\\n0\\n2℃\\n2m\\n7\\n0\\n3℃\\n3m\\n8\\n0\\n5℃\\n3m\\n9\\n0\\n6℃\\n4m\\n10\\n0\\n8℃\\n5m\\n11\\n0\\n9℃\\n6m\\n12\\n0\\n11℃\\n7m\\n13\\n0\\n11℃\\n7m\\n14\\n0\\n12℃\\n7m\\n15\\n0\\n12℃\\n7m\\n16\\n0\\n11℃\\n6m\\n17\\n0\\n10℃\\n5m\\n18\\n0\\n8℃\\n4m\\n19\\n0\\n8℃\\n4m\\n20\\n0\\n7℃\\n3m\\n21\\n0\\n6℃\\n2m\\n22\\n0\\n5℃\\n2m\\n23\\n0\\n5℃\\n2m\\n11日(月)\\n0\\n0\\n4℃\\n1m\\n1\\n0\\n4℃\\n1m\\n2\\n0\\n3℃\\n1m\\n3\\n0\\n3℃\\n1m\\n4\\n0\\n3℃\\n1m\\n5\\n0\\n2℃\\n1m\\n6\\n0\\n2℃\\n2m\\n7\\n0\\n2℃\\n2m\\n8\\n0\\n4℃\\n2m\\n9\\n0\\n6℃\\n2m\\n10\\n0\\n8℃\\n2m\\n11\\n0\\n10℃\\n0m\\n12\\n0\\n11℃\\n2m\\n13\\n0\\n12℃\\n4m\\n14\\n0\\n13℃\\n5m\\n15\\n0\\n13℃\\n5m\\n16\\n0\\n13℃\\n5m\\n17\\n0\\n12℃\\n4m\\n18\\n0\\n11℃\\n3m\\n19\\n0\\n10℃\\n3m\\n20\\n0\\n10℃\\n3m\\n21\\n0\\n10℃\\n3m\\n22\\n0\\n10℃\\n3m\\n23\\n0\\n10℃\\n3m\\n12日(火)\\n0\\n0\\n11℃\\n4m\\n1\\n0\\n10℃\\n4m\\n2\\n0\\n10℃\\n4m\\n3\\n0\\n9℃\\n3m\\n4\\n0\\n9℃\\n3m\\n5\\n0\\n8℃\\n2m\\n6\\n0\\n8℃\\n2m\\n7\\n0\\n8℃\\n2m\\n8\\n0\\n10℃\\n2m\\n9\\n0\\n11℃\\n3m\\n10\\n0\\n13℃\\n4m\\n11\\n1ミリ\\n14℃\\n5m\\n12\\n1ミリ\\n14℃\\n5m\\n13\\n1ミリ\\n13℃\\n5m\\n14\\n2ミリ\\n14℃\\n5m\\n15\\n2ミリ\\n14℃\\n5m\\n16\\n3ミリ\\n13℃\\n5m\\n17\\n4ミリ\\n13℃\\n5m\\n18\\n4ミリ\\n13℃\\n4m\\n19\\n4ミリ\\n12℃\\n4m\\nサクラのつぼみも喜ぶ陽気\\n明日はスッキリと晴れて穏やかな陽気。空気はヒンヤリしても、日向では温もりを感じられます。桜の生長も進みそうです。花粉対策を万全に行ってください。\\n週間(10日間)\\n日\\n天気\\n最高\\n最低\\n降水\\n10(日)\\n12℃\\n2℃\\n10%\\n11(月)\\n13℃\\n2℃\\n20%\\n12(火)\\n14℃\\n7℃\\n60%\\n13(水)\\n13℃\\n7℃\\n40%\\n14(木)\\n13℃\\n4℃\\n30%\\n15(金)\\n16℃\\n5℃\\n20%\\n16(土)\\n19℃\\n4℃\\n20%\\n17(日)\\n18℃\\n6℃\\n40%\\n18(月)\\n12℃\\n6℃\\n60%\\n19(火)\\n12℃\\n3℃\\n20%\\n天気は周期変化\\u3000春は少し加速\\n日差しが届く日が多いものの、火曜日は広く傘の出番となりそうです。週末に向けて気温は上昇傾向。寒暖差で体調を崩さないようにお気をつけください。花粉対策も万全に。\\nお天気ニュース\\n来週前半に南岸低気圧\\u3000西日本は11日(月)から雨で12日(火)は強雨注意\\n2024.03.09 17:32\\n来週後半は西日本から関東で20℃近い暖かさに\\n2024.03.09 18:06\\n北海道 浦河沖でM4.5の地震\\u3000最大震度3\\u3000津波の心配なし\\n2024.03.09 14:23\\nお天気ニュースをもっと読む →\\nお天気ニュース\\n来週前半に南岸低気圧\\u3000西日本は11日(月)から雨で12日(火)は強雨注意\\n2024.03.09 17:32\\n来週後半は西日本から関東で20℃近い暖かさに\\n2024.03.09 18:06\\n北海道 浦河沖でM4.5の地震\\u3000最大震度3\\u3000津波の心配なし\\n2024.03.09 14:23\\nお天気ニュースをもっと読む →\\n千葉県船橋市付近の天気\\n雨雲レーダー\\n地図を拡大\\n今の天気\\nグラフ\\n19:30\\n空の写真\\n空の写真をもっと見る\\nライブ動画番組\\n【ライブ放送中】最新地震・気象情報\\u3000ウェザーニュースLiVE\\n千葉県船橋市付近の観測値\\n(℃)\\n(m/s)\\n(mm/h)\\n(分)\\n続きを見る\\n千葉県の都市の天気予報\\n周辺の都道府県\\nお天気ニュース\\n大阪や名古屋は最高気温一桁\\u3000明日は少し寒さ和らぐ予想\\n2024.03.09 15:07\\n本州の山沿いで30cm超の新たな雪\\u3000山間部は雪崩の発生に注意\\n2024.03.09 15:59\\nあす3月10日(日)のウェザーニュース お天気キャスター解説\\n2024.03.09 19:15\\n3月10日(日)\\u3000各地の気温変化と最適な服装\\n2024.03.09 16:48\\n明日10日(日)の天気予報\\u3000西日本から関東は穏やかな晴天\\u3000日本海側の雪は次第に収まる\\n2024.03.09 16:43\\nお天気ニュースをもっと読む →\\nいまおすすめのメニュー\\n雨雲レーダー\\n雨雲の動きと予想を確認\\nウェザーリポート\\n全国から届くお天気リポート\\n防災・減災メニュー\\n天気メニュー\\n自然・季節・レジャー情報\\n予報精度向上の取り組みについて\\n千葉県船橋市付近の空の写真\\nウェザーニュース {{item.cityname}}\\n天気予報を検索\\n天気\\n防災・減災\\n自然・季節・健康\\n便利なメニュー\\nほか全メニュー\\n千葉県船橋市の天気予報\\n5分ごと\\n1時間ごと\\n今日明日\\n週間天気\\n日\\n天気\\n気温\\n降水\\n確率\\n今日\\n3月9日 (土)\\n 最高10℃\\n最低3℃\\n午前-%\\n午後10%\\n明日\\n3月10日 (日)\\n'), Document(metadata={'title': '船橋市の1時間天気 - 日本気象協会 tenki.jp', 'source': 'https://tenki.jp/forecast/3/15/4510/12204/1hour.html', 'score': 0.9092728, 'images': []}, page_content='今日 2024年03月09日(土)[大安]\\n晴れ\\n晴れ\\n晴れ\\n晴れ\\n晴れ\\n曇り\\n晴れ\\n晴れ\\n晴れ\\n晴れ\\n晴れ\\n晴れ\\n晴れ\\n晴れ\\n晴れ\\n晴れ\\n晴れ\\n晴れ\\n晴れ\\n晴れ\\n晴れ\\n晴れ\\n晴れ\\n晴れ\\n西\\n北西\\n北北西\\n静穏\\n北\\n北西\\n北西\\n北西\\n北西\\n北西\\n北西\\n北西\\n北西\\n北西\\n北西\\n北西\\n北北西\\n北北西\\n北西\\n西北西\\n西北西\\n西北西\\n北西\\n北西\\n千葉県雨雲レーダー現在の雨雲を見る\\nこれからの予報を見る\\n明日 2024年03月10日(日)[友引]\\n晴れ\\n晴れ\\n晴れ\\n晴れ\\n晴れ\\n晴れ\\n晴れ\\n晴れ\\n晴れ\\n晴れ\\n晴れ\\n晴れ\\n晴れ\\n晴れ\\n晴れ\\n晴れ\\n晴れ\\n晴れ\\n晴れ\\n晴れ\\n晴れ\\n晴れ\\n晴れ\\n晴れ\\n北西\\n北西\\n北西\\n北西\\n北西\\n北西\\n北西\\n北西\\n北西\\n北西\\n北西\\n北西\\n北西\\n北西\\n北西\\n北西\\n北西\\n北西\\n北西\\n北北西\\n北北西\\n北\\n北\\n北\\n千葉県雨雲レーダー現在の雨雲を見る\\nこれからの予報を見る\\n明後日 2024年03月11日(月)[先負]\\n晴れ\\n晴れ\\n晴れ\\n晴れ\\n晴れ\\n晴れ\\n晴れ\\n晴れ\\n晴れ\\n晴れ\\n晴れ\\n晴れ\\n晴れ\\n晴れ\\n晴れ\\n晴れ\\n晴れ\\n晴れ\\n曇り\\n曇り\\n曇り\\n曇り\\n曇り\\n曇り\\n北\\n北北東\\n北北東\\n北\\n北北東\\n北\\n北\\n北北西\\n北北西\\n北北西\\n西北西\\n南南西\\n南南西\\n南西\\n南南西\\n南西\\n南南西\\n南南西\\n南\\n南\\n南南西\\n南南西\\n南西\\n南西\\n千葉県雨雲レーダー現在の雨雲を見る\\nこれからの予報を見る\\nスギ花粉予測\\n千葉県の花粉飛散分布予測\\n03月09日\\nやや多い\\n48時間後までの予測を見る\\n10日間天気\\n03月12日\\n(火)\\n03月13日\\n(水)\\n03月14日\\n(木)\\n03月15日\\n(金)\\n03月16日\\n(土)\\n03月17日\\n(日)\\n03月18日\\n(月)\\n03月19日\\n(火)\\n曇のち雨\\n曇のち晴\\n晴時々曇\\n晴\\n晴\\n晴時々曇\\n雨時々曇\\n晴\\n13\\n9\\n13\\n7\\n14\\n4\\n16\\n5\\n19\\n5\\n18\\n6\\n11\\n10\\n12\\n4\\n100%\\n40%\\n20%\\n10%\\n10%\\n20%\\n80%\\n20%\\n気象予報士のポイント解説(日直予報士)\\n日曜まで局地的な大雪に注意\\u3000月曜は西から雨\\u3000火曜は太平洋側で雨や風が強まる\\n花粉ピーク続く\\u3000東京都内の飛散数は予測最大値の5割以下が多い \\u3000来週も大量飛散\\n2週間天気\\u3000次の週末は東京など20℃予想\\u3000季節は一進一退\\u3000春の彼岸は冷たい北風\\n名古屋や大阪など日中も10℃届かず\\u3000真冬並みの寒さ\\u3000明日朝も冷え込む\\nこちらもおすすめ\\n北西部(千葉)各地の天気\\n天気ガイド\\n船橋の観測ランキング\\n※船橋市に最も近い観測地点（アメダス）を表示しています。\\n注目の情報\\n30日間無料トライアル実施中\\n登山天気がパワーUP！最新の山の状態がすぐにわかる！\\n今年の花粉は非常に多い？\\n今日明日・週末の花粉飛散予測をチェック\\n紫外線対策は3月から必須！\\nライフスタイルに合わせた様々な紫外線対策についてご紹介PR\\n人気の日直予報士を配信\\ntenki.jpの公式Twitterをチェック!天気、降水確率、最高最低気温を配信\\n天気予報\\n観測\\n防災情報\\n天気図\\n指数情報\\nレジャー天気\\n季節特集\\n天気ニュース\\ntenki.jp+more\\n全国のコンテンツ\\ntenki.jpトップ\\n天気予報\\n観測\\n防災情報\\n天気図\\n指数情報\\nレジャー天気\\n季節特集\\n天気ニュース tenki.jp\\n船橋市の天気09日18:00発表\\n雷レーダーで落雷情報を見る\\n今日09日(土)\\n明日10日(日)\\n明後日11日(月)\\n')], 'question': '今日の千葉県船橋市の天気は?', 'answer': '今日、2024年3月9日（土）の千葉県船橋市の天気は晴れです。最高気温は10℃、最低気温は3℃で、降水確率は午前中0%、午後10%となっています。風は北西からの風が吹いています。'}\n"
     ]
    }
   ],
   "source": [
    "chain = (\n",
    "    {\"context\" : retriever, \n",
    "     \"question\" : RunnablePassthrough()}\n",
    "    | RunnablePassthrough.assign(answer= prompt | model| StrOutputParser())\n",
    ")\n",
    "\n",
    "output = chain.invoke(\"今日の千葉県船橋市の天気は?\")\n",
    "print(output)"
   ]
  },
  {
   "cell_type": "code",
   "execution_count": 11,
   "id": "803b2a57-4e04-4779-8c73-1880d68a67a6",
   "metadata": {},
   "outputs": [
    {
     "name": "stdout",
     "output_type": "stream",
     "text": [
      "'今日、2024年3月9日（土）の千葉県船橋市の天気は晴れです。最高気温は10℃、最低気温は3℃で、降水確率は午前中0%、午後10%となっています。風は北西からの風が吹いています。'\n"
     ]
    }
   ],
   "source": [
    "import pprint\n",
    "pprint.pprint(output[\"answer\"])"
   ]
  },
  {
   "cell_type": "code",
   "execution_count": null,
   "id": "2be979cc-9ed4-40bb-a744-3cff4bbb1ba7",
   "metadata": {},
   "outputs": [],
   "source": []
  }
 ],
 "metadata": {
  "kernelspec": {
   "display_name": "Python 3 (ipykernel)",
   "language": "python",
   "name": "python3"
  },
  "language_info": {
   "codemirror_mode": {
    "name": "ipython",
    "version": 3
   },
   "file_extension": ".py",
   "mimetype": "text/x-python",
   "name": "python",
   "nbconvert_exporter": "python",
   "pygments_lexer": "ipython3",
   "version": "3.11.5"
  }
 },
 "nbformat": 4,
 "nbformat_minor": 5
}
